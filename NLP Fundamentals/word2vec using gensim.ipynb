{
 "cells": [
  {
   "cell_type": "code",
   "execution_count": 2,
   "id": "c3842287",
   "metadata": {},
   "outputs": [],
   "source": [
    "# importing libraries \n",
    "import nltk \n",
    "from gensim.models import Word2Vec\n",
    "from nltk.corpus import stopwords \n",
    "import re "
   ]
  },
  {
   "cell_type": "code",
   "execution_count": 3,
   "id": "716da785",
   "metadata": {},
   "outputs": [],
   "source": [
    "paragraph = '''\n",
    "I have three visions for India. In 3000 years of our history, people from all over \n",
    "the world have come and invaded us, captuour lands, conquered our minds. \n",
    "From Alexander onwards, the Greeks, the Turthe Moguls, the Portuguese, the British,\n",
    "the French, the Dutch, all of them came looted us, took over what was ours. \n",
    "Yet we have not done this to any other natiWe have not conquered anyone. \n",
    "We have not grabbed their land, their culture, \n",
    "their history and tried to enforce our waylife on them. \n",
    "Why? Because we respect the freedom of othThat is why my \n",
    "first vision is that of freedom. I belithat India got its first vision of \n",
    "this in 1857, when we started the WarIndependence. It is this freedom that\n",
    "we must protect and nurture and build on.we are not free, no one will respect us.\n",
    "'''"
   ]
  },
  {
   "cell_type": "code",
   "execution_count": 4,
   "id": "a9f15c00",
   "metadata": {},
   "outputs": [],
   "source": [
    "# preprocessing \n",
    "text = re.sub(r'\\[[0-9]*\\]',' ', paragraph) \n",
    "text = re.sub(r'\\s+', ' ', text) \n",
    "text = text.lower() \n",
    "text = re.sub(r'\\d', ' ', text) \n",
    "text = re.sub(r'\\s+', ' ', text ) "
   ]
  },
  {
   "cell_type": "code",
   "execution_count": 5,
   "id": "e809eb48",
   "metadata": {},
   "outputs": [],
   "source": [
    "# sentence tokenization \n",
    "sentences = nltk.sent_tokenize(text) \n",
    "sentences = [nltk.word_tokenize(sentence) for sentence in sentences] "
   ]
  },
  {
   "cell_type": "code",
   "execution_count": 6,
   "id": "a141bda2",
   "metadata": {},
   "outputs": [],
   "source": [
    "for i in range(len(sentences)): \n",
    "    sentences[i] = [word for word in sentences[i] if word not in stopwords.words('english')] "
   ]
  },
  {
   "cell_type": "code",
   "execution_count": 7,
   "id": "c6bd4e5e",
   "metadata": {},
   "outputs": [
    {
     "data": {
      "text/plain": [
       "<gensim.models.word2vec.Word2Vec at 0x14f7f69b670>"
      ]
     },
     "execution_count": 7,
     "metadata": {},
     "output_type": "execute_result"
    }
   ],
   "source": [
    " \n",
    "# training the word2vec model \n",
    "model = Word2Vec(sentences, min_count = 1) \n",
    "model"
   ]
  },
  {
   "cell_type": "code",
   "execution_count": 8,
   "id": "e3182d59",
   "metadata": {},
   "outputs": [
    {
     "data": {
      "text/plain": [
       "[',',\n",
       " '.',\n",
       " 'freedom',\n",
       " 'us',\n",
       " 'first',\n",
       " 'india',\n",
       " 'respect',\n",
       " 'history',\n",
       " 'conquered',\n",
       " 'vision',\n",
       " 'alexander',\n",
       " 'onwards',\n",
       " 'turthe',\n",
       " 'greeks',\n",
       " 'moguls',\n",
       " 'portuguese',\n",
       " 'british',\n",
       " 'minds',\n",
       " 'one',\n",
       " 'lands',\n",
       " 'captuour',\n",
       " 'dutch',\n",
       " 'invaded',\n",
       " 'come',\n",
       " 'world',\n",
       " 'people',\n",
       " 'years',\n",
       " 'visions',\n",
       " 'french',\n",
       " 'took',\n",
       " 'came',\n",
       " '?',\n",
       " 'on.we',\n",
       " 'build',\n",
       " 'nurture',\n",
       " 'protect',\n",
       " 'must',\n",
       " 'warindependence',\n",
       " 'started',\n",
       " 'got',\n",
       " 'belithat',\n",
       " 'oththat',\n",
       " 'waylife',\n",
       " 'looted',\n",
       " 'enforce',\n",
       " 'tried',\n",
       " 'culture',\n",
       " 'land',\n",
       " 'grabbed',\n",
       " 'anyone',\n",
       " 'natiwe',\n",
       " 'done',\n",
       " 'yet',\n",
       " 'free',\n",
       " 'three']"
      ]
     },
     "execution_count": 8,
     "metadata": {},
     "output_type": "execute_result"
    }
   ],
   "source": [
    "words = list(model.wv.index_to_key) \n",
    "words"
   ]
  },
  {
   "cell_type": "code",
   "execution_count": 9,
   "id": "fa949851",
   "metadata": {},
   "outputs": [
    {
     "data": {
      "text/plain": [
       "array([-6.1521842e-03,  4.6681203e-03, -9.0643289e-03,  5.0926651e-03,\n",
       "        6.3470253e-03,  6.1140489e-03, -7.6289773e-03,  2.8407697e-03,\n",
       "       -5.4592132e-03,  9.0397000e-03, -4.3115164e-03, -2.3585022e-03,\n",
       "        5.2231434e-03, -8.2411274e-04,  5.0881309e-03, -4.2217690e-03,\n",
       "        4.9888729e-03, -9.8020965e-03,  6.0757692e-03, -1.2631429e-03,\n",
       "       -5.6006345e-03, -1.7764849e-05, -1.2238802e-03, -7.2342152e-04,\n",
       "       -1.7569191e-03, -9.2752753e-03, -7.8137610e-03, -6.7888745e-03,\n",
       "       -8.6406888e-03, -4.5376834e-03,  9.1865994e-03, -1.8091678e-03,\n",
       "       -7.5857025e-03, -5.9016636e-03,  3.5976875e-03, -2.7170414e-03,\n",
       "       -1.5548150e-03, -4.2556259e-03,  5.9554204e-03, -7.8328745e-03,\n",
       "       -7.5010625e-03,  7.5265556e-03, -6.9691450e-03,  2.1585729e-03,\n",
       "        3.6300148e-04,  9.6555008e-03,  4.2359880e-03,  2.0676719e-03,\n",
       "        2.7584094e-03,  2.3165133e-03,  2.1911766e-03, -2.7201029e-03,\n",
       "        4.0869876e-03,  6.1069480e-03,  8.9392224e-03, -7.4859028e-04,\n",
       "       -1.2210975e-03,  6.4662397e-03, -8.4737232e-03, -6.4146676e-04,\n",
       "       -6.6701728e-03,  4.7835880e-03, -8.9417025e-03,  3.2524962e-03,\n",
       "        9.0014413e-03, -2.0605836e-03, -8.8356724e-03, -8.1775375e-03,\n",
       "        3.2422000e-03, -5.3548045e-03,  6.4518782e-03, -1.1778177e-03,\n",
       "        7.8548174e-03, -5.1398214e-04, -6.2066615e-03, -5.7024234e-03,\n",
       "        7.7421853e-04, -4.7786944e-03,  6.5581850e-03, -3.5270534e-03,\n",
       "       -5.6336694e-03,  9.5309393e-04, -4.8735426e-03, -8.1970766e-03,\n",
       "       -5.2592400e-03, -1.8601044e-03,  4.4809090e-04,  3.6411132e-03,\n",
       "        6.8803290e-03,  6.7316443e-03,  5.8581373e-03,  3.2738131e-04,\n",
       "       -5.8208513e-03,  9.0101566e-03, -6.4036873e-04,  4.7095078e-03,\n",
       "       -1.4385853e-03,  5.7921740e-03,  5.3092465e-03, -7.2923638e-03],\n",
       "      dtype=float32)"
      ]
     },
     "execution_count": 9,
     "metadata": {},
     "output_type": "execute_result"
    }
   ],
   "source": [
    "# finishing words vectors \n",
    "vector = model.wv['culture'] \n",
    "vector"
   ]
  },
  {
   "cell_type": "code",
   "execution_count": 10,
   "id": "5f4dc76c",
   "metadata": {},
   "outputs": [
    {
     "data": {
      "text/plain": [
       "[('visions', 0.2705961763858795),\n",
       " ('land', 0.17181654274463654),\n",
       " ('got', 0.14507603645324707),\n",
       " ('vision', 0.1361711323261261),\n",
       " ('minds', 0.13075408339500427),\n",
       " ('grabbed', 0.1241573765873909),\n",
       " ('protect', 0.09908568859100342),\n",
       " ('tried', 0.09904409945011139),\n",
       " ('oththat', 0.08298797905445099),\n",
       " ('belithat', 0.08115620911121368)]"
      ]
     },
     "execution_count": 10,
     "metadata": {},
     "output_type": "execute_result"
    }
   ],
   "source": [
    "# most similar words\n",
    "similar = model.wv.most_similar('culture') \n",
    "similar"
   ]
  },
  {
   "cell_type": "code",
   "execution_count": null,
   "id": "36ee11ec",
   "metadata": {},
   "outputs": [],
   "source": []
  }
 ],
 "metadata": {
  "kernelspec": {
   "display_name": "Python 3",
   "language": "python",
   "name": "python3"
  },
  "language_info": {
   "codemirror_mode": {
    "name": "ipython",
    "version": 3
   },
   "file_extension": ".py",
   "mimetype": "text/x-python",
   "name": "python",
   "nbconvert_exporter": "python",
   "pygments_lexer": "ipython3",
   "version": "3.8.8"
  }
 },
 "nbformat": 4,
 "nbformat_minor": 5
}
