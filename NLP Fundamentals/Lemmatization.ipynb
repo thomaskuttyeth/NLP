{
 "cells": [
  {
   "cell_type": "code",
   "execution_count": 1,
   "id": "a21a86a1",
   "metadata": {},
   "outputs": [],
   "source": [
    "# importing libraries \n",
    "import nltk \n",
    "from nltk.stem import WordNetLemmatizer \n",
    "from nltk.corpus import stopwords "
   ]
  },
  {
   "cell_type": "code",
   "execution_count": 2,
   "id": "616d1e67",
   "metadata": {},
   "outputs": [],
   "source": [
    "text='''\n",
    "I have three visions for India.\n",
    "In 3000 years of our history, people from allover the world have come and invaded us, captured our lands, conquered our minds. From Alexander onwards. The Greeks, the Portuguese, the British, the French, the Dutch, all of them came and looted us, took over what was ours. Yet we have not done this to any other nation. We have not conquered anyone. We have not grabbed their land, their culture, their history tried to enforce our way of life on them. Why? Because we respect the freedom of others.\n",
    "'''"
   ]
  },
  {
   "cell_type": "code",
   "execution_count": 3,
   "id": "4ac5980a",
   "metadata": {},
   "outputs": [],
   "source": [
    "# lemmatization \n",
    "sentences = nltk.sent_tokenize(text)\n",
    "lemmatizer = WordNetLemmatizer()"
   ]
  },
  {
   "cell_type": "code",
   "execution_count": 4,
   "id": "ca99e285",
   "metadata": {},
   "outputs": [
    {
     "name": "stdout",
     "output_type": "stream",
     "text": [
      "['I three vision India .', 'In 3000 year history , people allover world come invaded u , captured land , conquered mind .']\n"
     ]
    }
   ],
   "source": [
    "# lemmetization \n",
    "english_stopwords = stopwords.words('english')\n",
    "lemmmatizer = WordNetLemmatizer() \n",
    "for i in range(len(sentences)):\n",
    "    words = nltk.word_tokenize(sentences[i]) \n",
    "    words = [lemmmatizer.lemmatize(word) for word in words if word not in set(english_stopwords)]\n",
    "    sentences[i] = ' '.join(words) \n",
    "    \n",
    "print(sentences[0:2])"
   ]
  },
  {
   "cell_type": "code",
   "execution_count": null,
   "id": "9b2315b1",
   "metadata": {},
   "outputs": [],
   "source": []
  },
  {
   "cell_type": "code",
   "execution_count": null,
   "id": "2914fb43",
   "metadata": {},
   "outputs": [],
   "source": []
  }
 ],
 "metadata": {
  "kernelspec": {
   "display_name": "Python 3",
   "language": "python",
   "name": "python3"
  },
  "language_info": {
   "codemirror_mode": {
    "name": "ipython",
    "version": 3
   },
   "file_extension": ".py",
   "mimetype": "text/x-python",
   "name": "python",
   "nbconvert_exporter": "python",
   "pygments_lexer": "ipython3",
   "version": "3.8.8"
  }
 },
 "nbformat": 4,
 "nbformat_minor": 5
}
