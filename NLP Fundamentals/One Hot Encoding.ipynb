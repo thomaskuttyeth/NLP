{
 "cells": [
  {
   "cell_type": "markdown",
   "id": "4eebf0b0",
   "metadata": {},
   "source": [
    "\n",
    "## One hot encoded representation\n",
    "This means that if we have a vocabulary of V size, for each i\n",
    "th word wi, we will represent the word wi with a V-long vector \n",
    "\n",
    "        [0, 0, 0, …, 0, 1, 0, …, 0, 0,0]\n",
    "\n",
    "where the ith element is 1 and other elements are zero."
   ]
  },
  {
   "cell_type": "code",
   "execution_count": 2,
   "id": "1fc24335",
   "metadata": {},
   "outputs": [],
   "source": [
    "from sklearn.feature_extraction.text import CountVectorizer\n",
    "\n",
    "corpus = ['Time flies flies like an arrow', 'Fruit flies like banana']"
   ]
  },
  {
   "cell_type": "code",
   "execution_count": 3,
   "id": "bf091f36",
   "metadata": {},
   "outputs": [
    {
     "data": {
      "text/plain": [
       "array([[1, 1, 0, 1, 0, 1, 1],\n",
       "       [0, 0, 1, 1, 1, 1, 0]], dtype=int64)"
      ]
     },
     "execution_count": 3,
     "metadata": {},
     "output_type": "execute_result"
    }
   ],
   "source": [
    "# one hot vectorizer\n",
    "one_hot_vectorizer = CountVectorizer(binary=True)\n",
    "one_hot = one_hot_vectorizer.fit_transform(corpus).toarray()\n",
    "one_hot"
   ]
  },
  {
   "cell_type": "markdown",
   "id": "bf2c62be",
   "metadata": {},
   "source": [
    "\n",
    "## Problems with the one hot representation\n",
    "\n",
    "1. This representation does not include the similarity between words in any way and\n",
    "   completely ignores the context in which the words are used. Let's consider the dotproduct between the word vectors as the similarity measure. The more similar two vectors are, the higher the dot product is for those two vectors.\n",
    "\n",
    "2. extremly ineffective for large vocabularies. if there are 50,000 words in the corpus, then this representation generates 50,000* 50,000 sparse matrix.\n"
   ]
  },
  {
   "cell_type": "code",
   "execution_count": null,
   "id": "4301b328",
   "metadata": {},
   "outputs": [],
   "source": []
  }
 ],
 "metadata": {
  "kernelspec": {
   "display_name": "Python 3",
   "language": "python",
   "name": "python3"
  },
  "language_info": {
   "codemirror_mode": {
    "name": "ipython",
    "version": 3
   },
   "file_extension": ".py",
   "mimetype": "text/x-python",
   "name": "python",
   "nbconvert_exporter": "python",
   "pygments_lexer": "ipython3",
   "version": "3.8.8"
  }
 },
 "nbformat": 4,
 "nbformat_minor": 5
}
