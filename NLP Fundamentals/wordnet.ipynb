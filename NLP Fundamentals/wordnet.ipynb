{
 "cells": [
  {
   "cell_type": "markdown",
   "id": "ff04dae8",
   "metadata": {},
   "source": [
    "## WordNet\n",
    "Wordnet uses the term synset to denote the set of synonyms. Each of synonym has a definition that explains what the set of synonym represents. Synonyms contained within a synset are called lemmas."
   ]
  },
  {
   "cell_type": "code",
   "execution_count": 10,
   "id": "a6d48174",
   "metadata": {},
   "outputs": [],
   "source": [
    "# importing the wordnet corpus\n",
    "from nltk.corpus import wordnet as wn"
   ]
  },
  {
   "cell_type": "code",
   "execution_count": 11,
   "id": "fbc6baf6",
   "metadata": {},
   "outputs": [
    {
     "data": {
      "text/plain": [
       "[Synset('car.n.01'),\n",
       " Synset('car.n.02'),\n",
       " Synset('car.n.03'),\n",
       " Synset('car.n.04'),\n",
       " Synset('cable_car.n.01')]"
      ]
     },
     "execution_count": 11,
     "metadata": {},
     "output_type": "execute_result"
    }
   ],
   "source": [
    "# retriving all the available synsets of the word car\n",
    "word = 'car'\n",
    "car_syns = wn.synsets(word)\n",
    "car_syns"
   ]
  },
  {
   "cell_type": "code",
   "execution_count": 12,
   "id": "e8cfb008",
   "metadata": {},
   "outputs": [
    {
     "name": "stdout",
     "output_type": "stream",
     "text": [
      "a motor vehicle with four wheels; usually propelled by an internal combustion engine\n",
      "\n",
      "a wheeled vehicle adapted to the rails of railroad\n",
      "\n",
      "the compartment that is suspended from an airship and that carries personnel and the cargo and the power plant\n",
      "\n",
      "where passengers ride up and down\n",
      "\n",
      "a conveyance for passengers or freight on a cable railway\n",
      "\n"
     ]
    }
   ],
   "source": [
    "# getting the definitions for each synset\n",
    "for i in range(len(car_syns)):\n",
    "    print(car_syns[i].definition())\n",
    "    print()"
   ]
  },
  {
   "cell_type": "code",
   "execution_count": 17,
   "id": "e559e54d",
   "metadata": {},
   "outputs": [
    {
     "data": {
      "text/plain": [
       "[Lemma('car.n.01.car'),\n",
       " Lemma('car.n.01.auto'),\n",
       " Lemma('car.n.01.automobile'),\n",
       " Lemma('car.n.01.machine'),\n",
       " Lemma('car.n.01.motorcar')]"
      ]
     },
     "execution_count": 17,
     "metadata": {},
     "output_type": "execute_result"
    }
   ],
   "source": [
    "# get lemmas for the first synset\n",
    "car_lemma = car_syns[0].lemmas()\n",
    "car_lemma"
   ]
  },
  {
   "cell_type": "markdown",
   "id": "9ca58fb5",
   "metadata": {},
   "source": [
    "\n",
    "### Associations between synsets\n",
    "The associations between synsets  are of two categories;\n",
    " * is -a relationship\n",
    " * is-made-of relationship\n",
    "\n",
    "For a given synset, there exist two categories of relations;\n",
    " * Hypernyms - synsets which carry a general (high-level) meaning of the considered synsets\n",
    " * Hyponyms - synsets which carry specific meaning of the considered synsets.\n"
   ]
  },
  {
   "cell_type": "code",
   "execution_count": 14,
   "id": "254c26ff",
   "metadata": {},
   "outputs": [
    {
     "data": {
      "text/plain": [
       "'motor_vehicle.n.01'"
      ]
     },
     "execution_count": 14,
     "metadata": {},
     "output_type": "execute_result"
    }
   ],
   "source": [
    "# taking first synset\n",
    "syn = car_syns[0]\n",
    "syn.hypernyms()[0].name()"
   ]
  },
  {
   "cell_type": "code",
   "execution_count": 15,
   "id": "613d739d",
   "metadata": {},
   "outputs": [
    {
     "data": {
      "text/plain": [
       "['ambulance.n.01',\n",
       " 'beach_wagon.n.01',\n",
       " 'bus.n.04',\n",
       " 'cab.n.03',\n",
       " 'compact.n.03',\n",
       " 'convertible.n.01',\n",
       " 'coupe.n.01',\n",
       " 'cruiser.n.01',\n",
       " 'electric.n.01',\n",
       " 'gas_guzzler.n.01',\n",
       " 'hardtop.n.01',\n",
       " 'hatchback.n.01',\n",
       " 'horseless_carriage.n.01',\n",
       " 'hot_rod.n.01',\n",
       " 'jeep.n.01',\n",
       " 'limousine.n.01',\n",
       " 'loaner.n.02',\n",
       " 'minicar.n.01',\n",
       " 'minivan.n.01',\n",
       " 'model_t.n.01',\n",
       " 'pace_car.n.01',\n",
       " 'racer.n.02',\n",
       " 'roadster.n.01',\n",
       " 'sedan.n.01',\n",
       " 'sport_utility.n.01',\n",
       " 'sports_car.n.01',\n",
       " 'stanley_steamer.n.01',\n",
       " 'stock_car.n.01',\n",
       " 'subcompact.n.01',\n",
       " 'touring_car.n.01',\n",
       " 'used-car.n.01']"
      ]
     },
     "execution_count": 15,
     "metadata": {},
     "output_type": "execute_result"
    }
   ],
   "source": [
    "# getting the hyponyms\n",
    "syn.hyponyms()\n",
    "hyponyms = [hypo.name() for hypo in syn.hyponyms()]\n",
    "hyponyms"
   ]
  },
  {
   "cell_type": "markdown",
   "id": "0fa13025",
   "metadata": {},
   "source": [
    "## Holonyms and Metronyms\n",
    "Holonyms of a synset are the group of synsets that represents the whole entity of the\n",
    " considered synset. For example holonym of tire is the cars synset.\n",
    " Metronyms are an is-made-of category and represents the opposite of holonyms"
   ]
  },
  {
   "cell_type": "code",
   "execution_count": 16,
   "id": "f042c31f",
   "metadata": {},
   "outputs": [
    {
     "name": "stdout",
     "output_type": "stream",
     "text": [
      "syn = Synset('car.n.03')\n"
     ]
    },
    {
     "data": {
      "text/plain": [
       "['airship.n.01']"
      ]
     },
     "execution_count": 16,
     "metadata": {},
     "output_type": "execute_result"
    }
   ],
   "source": [
    "syn = car_syns[2]  # specific subclass\n",
    "print('syn =', syn)\n",
    "[holo.name() for holo in syn.part_holonyms()]"
   ]
  },
  {
   "cell_type": "markdown",
   "id": "d0a2ee4e",
   "metadata": {},
   "source": [
    "\n",
    "## Problems with the wordnet\n",
    "1. missing nuances. Nuances is subjective. For example, the words want and need have\n",
    "   similar meanings, but one of them(need) is more assertive.\n",
    "2. wordnet is subjective in itself\n",
    "3. issue of maintainning wordnet, which is labor-intensive\n",
    "4. developing wordnet for other languages can be costly."
   ]
  },
  {
   "cell_type": "code",
   "execution_count": null,
   "id": "a9babd0a",
   "metadata": {},
   "outputs": [],
   "source": []
  }
 ],
 "metadata": {
  "kernelspec": {
   "display_name": "Python 3",
   "language": "python",
   "name": "python3"
  },
  "language_info": {
   "codemirror_mode": {
    "name": "ipython",
    "version": 3
   },
   "file_extension": ".py",
   "mimetype": "text/x-python",
   "name": "python",
   "nbconvert_exporter": "python",
   "pygments_lexer": "ipython3",
   "version": "3.8.8"
  }
 },
 "nbformat": 4,
 "nbformat_minor": 5
}
