{
 "cells": [
  {
   "cell_type": "markdown",
   "id": "a266948e",
   "metadata": {},
   "source": [
    "# <font color = 'Blue'> Spam Classification using Naive Bayes"
   ]
  },
  {
   "cell_type": "markdown",
   "id": "50f5b026",
   "metadata": {},
   "source": [
    "## Loaidng the libraries "
   ]
  },
  {
   "cell_type": "code",
   "execution_count": 1,
   "id": "b799e5d2",
   "metadata": {},
   "outputs": [],
   "source": [
    "import os \n",
    "import pandas as pd \n",
    "import re \n",
    "from nltk.stem.porter import PorterStemmer\n",
    "from nltk.corpus import stopwords \n",
    "from sklearn.feature_extraction.text import CountVectorizer \n",
    "from sklearn.model_selection import train_test_split\n",
    "from sklearn.naive_bayes import MultinomialNB\n",
    "from sklearn.metrics import confusion_matrix\n",
    "from sklearn.metrics import accuracy_score \n",
    "from sklearn.metrics import classification_report"
   ]
  },
  {
   "cell_type": "markdown",
   "id": "ac3ca70f",
   "metadata": {},
   "source": [
    "## Loading the data "
   ]
  },
  {
   "cell_type": "code",
   "execution_count": 2,
   "id": "012d54fe",
   "metadata": {},
   "outputs": [],
   "source": [
    "# loading the data \n",
    "messages = pd.read_csv('data/SMSSpamCollection', \n",
    "                       sep = '\\t', \n",
    "                       names = ['label', 'message']) "
   ]
  },
  {
   "cell_type": "markdown",
   "id": "010686e9",
   "metadata": {},
   "source": [
    "## Stemmig part "
   ]
  },
  {
   "cell_type": "code",
   "execution_count": 3,
   "id": "394ba837",
   "metadata": {},
   "outputs": [],
   "source": [
    "ps = PorterStemmer() \n",
    "corpus = []\n",
    "for i in range(len(messages)):\n",
    "    review = re.sub('[^a-zA-Z]',' ', messages['message'][i])\n",
    "    review = review.lower() \n",
    "    review = review.split() \n",
    "    \n",
    "    review = [ps.stem(word) for word in review if not word in stopwords.words('english')]\n",
    "    review = ' '.join(review)\n",
    "    corpus.append(review) "
   ]
  },
  {
   "cell_type": "markdown",
   "id": "f27ba5e1",
   "metadata": {},
   "source": [
    "## Bag of words model "
   ]
  },
  {
   "cell_type": "code",
   "execution_count": 4,
   "id": "dc6d1414",
   "metadata": {},
   "outputs": [],
   "source": [
    "# taking top 5000 occurings \n",
    "cv = CountVectorizer(max_features=5000) "
   ]
  },
  {
   "cell_type": "code",
   "execution_count": 5,
   "id": "776ea9dc",
   "metadata": {},
   "outputs": [],
   "source": [
    " \n",
    "#independent feature \n",
    "X = cv.fit_transform(corpus).toarray()    \n",
    "\n",
    "# get dummies for lables (dependent featue) \n",
    "y = pd.get_dummies(messages['label']) \n",
    "y = y['spam'] "
   ]
  },
  {
   "cell_type": "code",
   "execution_count": 6,
   "id": "7a520a57",
   "metadata": {},
   "outputs": [],
   "source": [
    "# train test split \n",
    "X_train, X_test, y_train, y_test = train_test_split(X,y, test_size = 0.20, random_state=0) "
   ]
  },
  {
   "cell_type": "code",
   "execution_count": null,
   "id": "15c71c76",
   "metadata": {},
   "outputs": [],
   "source": [
    "# training model using naive bayes classifier \n",
    "spam_detect_model = MultinomialNB().fit(X_train,y_train)"
   ]
  },
  {
   "cell_type": "markdown",
   "id": "a592d2fb",
   "metadata": {},
   "source": [
    "## Model Evaluation "
   ]
  },
  {
   "cell_type": "code",
   "execution_count": 7,
   "id": "f9198ed0",
   "metadata": {},
   "outputs": [],
   "source": [
    "y_pred = spam_detect_model.predict(X_test)\n",
    "# evaluation of model \n",
    "confusion_m = confusion_matrix(y_test, y_pred)\n",
    "# checking accuracy scores \n",
    "accuracy = accuracy_score(y_test, y_pred)\n",
    "\n",
    "test_model_report = classification_report(y_test, y_pred)\n",
    "\n",
    "train_y_pred = spam_detect_model.predict(X_train)\n",
    "train_model_report = classification_report(y_train, train_y_pred)"
   ]
  },
  {
   "cell_type": "code",
   "execution_count": 11,
   "id": "57bedb15",
   "metadata": {},
   "outputs": [
    {
     "name": "stdout",
     "output_type": "stream",
     "text": [
      "              precision    recall  f1-score   support\n",
      "\n",
      "           0       0.99      0.99      0.99       955\n",
      "           1       0.94      0.95      0.95       160\n",
      "\n",
      "    accuracy                           0.98      1115\n",
      "   macro avg       0.97      0.97      0.97      1115\n",
      "weighted avg       0.98      0.98      0.98      1115\n",
      "\n"
     ]
    }
   ],
   "source": [
    "print(test_model_report)"
   ]
  },
  {
   "cell_type": "code",
   "execution_count": 12,
   "id": "350e4982",
   "metadata": {},
   "outputs": [
    {
     "name": "stdout",
     "output_type": "stream",
     "text": [
      "              precision    recall  f1-score   support\n",
      "\n",
      "           0       1.00      1.00      1.00      3870\n",
      "           1       0.97      0.97      0.97       587\n",
      "\n",
      "    accuracy                           0.99      4457\n",
      "   macro avg       0.98      0.98      0.98      4457\n",
      "weighted avg       0.99      0.99      0.99      4457\n",
      "\n"
     ]
    }
   ],
   "source": [
    "print(train_model_report)"
   ]
  },
  {
   "cell_type": "code",
   "execution_count": null,
   "id": "00dd7f4c",
   "metadata": {},
   "outputs": [],
   "source": []
  }
 ],
 "metadata": {
  "kernelspec": {
   "display_name": "Python 3",
   "language": "python",
   "name": "python3"
  },
  "language_info": {
   "codemirror_mode": {
    "name": "ipython",
    "version": 3
   },
   "file_extension": ".py",
   "mimetype": "text/x-python",
   "name": "python",
   "nbconvert_exporter": "python",
   "pygments_lexer": "ipython3",
   "version": "3.8.8"
  }
 },
 "nbformat": 4,
 "nbformat_minor": 5
}
