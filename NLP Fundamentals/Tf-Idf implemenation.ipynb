{
 "cells": [
  {
   "cell_type": "markdown",
   "id": "b0c65f85",
   "metadata": {},
   "source": [
    "## TF-IDF method\n",
    "\n",
    "It shows how relevant a word in a series or corpus is to a text. \n",
    "TF-IDF is a frequency-based method that takes into account the frequency with\n",
    "which a word appears in a corpus. This is a word representation in the sense that it\n",
    "represents the importance of a specific word in a given document. Intuitively, the\n",
    "higher the frequency of the word, the more important that word is in the document.\n",
    "\n",
    "TF stands for term frequency and IDF stands for inverse document frequency:\n",
    "\n",
    "TF(wi) = number of times wi appear / total number of words\n",
    "IDF(wi) = log(total number of documents / number of documents with wi in it)\n",
    "\n",
    "TF-IDF(wi) = TF(wi) x IDF(wi)\n",
    "\n",
    "for example :\n",
    " sentence 1 = 'This is about cats. Cats are great companions'\n",
    " sentence 2 = 'This is about dogs. Dogs are very loyal'\n",
    "\n",
    "tf-idf(cats,sentenc1) = (2/8) * log(2/1) = 0.075\n",
    "tf-idf(this, senetence2) = (1/8) * log(2/2) = 0.0"
   ]
  },
  {
   "cell_type": "code",
   "execution_count": 1,
   "id": "011a5f0f",
   "metadata": {},
   "outputs": [
    {
     "name": "stdout",
     "output_type": "stream",
     "text": [
      "about [0.25 0.25]\n",
      "are [0.25 0.25]\n",
      "cats [0.71 0.  ]\n",
      "companions [0.35 0.  ]\n",
      "dogs [0.   0.71]\n",
      "great [0.35 0.  ]\n",
      "is [0.25 0.25]\n",
      "loyal [0.   0.35]\n",
      "this [0.25 0.25]\n",
      "very [0.   0.35]\n"
     ]
    }
   ],
   "source": [
    "from sklearn.feature_extraction.text import TfidfVectorizer\n",
    "import numpy as np\n",
    "corpus = ['This is about cats. cats are great companions',\n",
    "          'This is about dogs. dogs are very loyal']\n",
    "\n",
    "tfidf = TfidfVectorizer()\n",
    "tfidf_vector = tfidf.fit_transform(corpus)\n",
    "result = tfidf.fit_transform(corpus).toarray()\n",
    "\n",
    "result_arr = np.round(result, decimals=2).T\n",
    "\n",
    "feature_names = tfidf.get_feature_names()\n",
    "\n",
    "for name, value in zip(feature_names, result_arr):\n",
    "    print(name, value)"
   ]
  },
  {
   "cell_type": "code",
   "execution_count": null,
   "id": "8328e3be",
   "metadata": {},
   "outputs": [],
   "source": []
  }
 ],
 "metadata": {
  "kernelspec": {
   "display_name": "Python 3",
   "language": "python",
   "name": "python3"
  },
  "language_info": {
   "codemirror_mode": {
    "name": "ipython",
    "version": 3
   },
   "file_extension": ".py",
   "mimetype": "text/x-python",
   "name": "python",
   "nbconvert_exporter": "python",
   "pygments_lexer": "ipython3",
   "version": "3.8.8"
  }
 },
 "nbformat": 4,
 "nbformat_minor": 5
}
