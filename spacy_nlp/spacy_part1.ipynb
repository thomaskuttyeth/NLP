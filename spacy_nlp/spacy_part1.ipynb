{
 "cells": [
  {
   "cell_type": "markdown",
   "id": "0f7f9753-8d58-4b9d-b34e-3c4334cb82b5",
   "metadata": {},
   "source": [
    "# Contents \n",
    " * <b><i> Installation and importing \n",
    " * <b><i> reading document as nlp spacy object \n",
    " * <b><i>  sentence tokens \n",
    " *<b><i>  parts of speech tagging \n",
    " *<b><i>  visualization with dislpacy \n",
    " *<b><i>  lemmatization \n",
    " *<b><i>  named entity recognition "
   ]
  },
  {
   "cell_type": "markdown",
   "id": "281fb269-d144-4637-a547-2e8ffb8eadf2",
   "metadata": {},
   "source": [
    "###  Installation and importing "
   ]
  },
  {
   "cell_type": "code",
   "execution_count": 5,
   "id": "90b84efe-9a8b-442e-a20a-c73cc663b36a",
   "metadata": {},
   "outputs": [],
   "source": [
    "import spacy"
   ]
  },
  {
   "cell_type": "code",
   "execution_count": null,
   "id": "c5bcfb2f-ff9a-4b9f-9ffe-8191c30e202d",
   "metadata": {},
   "outputs": [],
   "source": [
    "## Installation "
   ]
  },
  {
   "cell_type": "code",
   "execution_count": 13,
   "id": "2cff0ed4-63b3-40df-82d6-768ae11d225d",
   "metadata": {},
   "outputs": [],
   "source": [
    "# pip install spacy \n",
    "# python -m spacy download en"
   ]
  },
  {
   "cell_type": "code",
   "execution_count": 10,
   "id": "c88135fc-305a-42d9-9a29-dfcef207ed9f",
   "metadata": {},
   "outputs": [],
   "source": [
    "nlp = spacy.load('en_core_web_sm')"
   ]
  },
  {
   "cell_type": "code",
   "execution_count": 15,
   "id": "57da601a-9acd-4e93-a79c-adf3d1995f67",
   "metadata": {},
   "outputs": [
    {
     "data": {
      "text/plain": [
       "'Hello world this is nlp spacy'"
      ]
     },
     "execution_count": 15,
     "metadata": {},
     "output_type": "execute_result"
    }
   ],
   "source": [
    "doc = nlp(u\"Hello world this is nlp spacy\") \n",
    "doc.text"
   ]
  },
  {
   "cell_type": "markdown",
   "id": "cc21066d-4c86-4147-916f-adf95cd0a0ff",
   "metadata": {},
   "source": [
    "### Reading a document or text "
   ]
  },
  {
   "cell_type": "code",
   "execution_count": 16,
   "id": "3f038e86-5889-4d08-bc92-913b0ef34e1d",
   "metadata": {},
   "outputs": [],
   "source": [
    "docs = nlp('spacy is a cool tool') "
   ]
  },
  {
   "cell_type": "code",
   "execution_count": 19,
   "id": "7a4796b2-1f69-49ba-8c6e-ae714f890c8e",
   "metadata": {},
   "outputs": [],
   "source": [
    "docs2 = nlp(u'spacy is an amazing tool like nltk') "
   ]
  },
  {
   "cell_type": "code",
   "execution_count": 28,
   "id": "97a7737b-796c-4989-be10-78094123599d",
   "metadata": {},
   "outputs": [],
   "source": [
    "file = open('sample documents\\\\machine learning.txt').read()"
   ]
  },
  {
   "cell_type": "code",
   "execution_count": 30,
   "id": "023204e9-8056-40d6-a17f-ac131660059c",
   "metadata": {},
   "outputs": [
    {
     "data": {
      "text/plain": [
       "Machine learning is an important component of the growing field of data science. Through the use of statistical methods, algorithms are trained to make classifications or predictions, uncovering key insights within data mining projects. These insights subsequently drive decision making within applications and businesses, ideally impacting key growth metrics. As big data continues to expand and grow, the market demand for data scientists will increase, requiring them to assist in the identification of the most relevant business questions and subsequently the data to answer them."
      ]
     },
     "execution_count": 30,
     "metadata": {},
     "output_type": "execute_result"
    }
   ],
   "source": [
    "nlp_file = nlp(file)\n",
    "nlp_file"
   ]
  },
  {
   "cell_type": "markdown",
   "id": "5fb02e02-88b8-473b-99a7-91c7ae831f8b",
   "metadata": {},
   "source": [
    "### Sentence Tokens "
   ]
  },
  {
   "cell_type": "code",
   "execution_count": 35,
   "id": "48d4d46d-0ace-4c37-ae7a-130b5622804b",
   "metadata": {},
   "outputs": [
    {
     "name": "stdout",
     "output_type": "stream",
     "text": [
      "0: Machine learning is an important component of the growing field of data science.\n",
      "1: Through the use of statistical methods, algorithms are trained to make classifications or predictions, uncovering key insights within data mining projects.\n",
      "2: These insights subsequently drive decision making within applications and businesses, ideally impacting key growth metrics.\n",
      "3: As big data continues to expand and grow, the market demand for data scientists will increase, requiring them to assist in the identification of the most relevant business questions and subsequently the data to answer them.\n"
     ]
    }
   ],
   "source": [
    "for index,sentence in enumerate(nlp_file.sents):\n",
    "    print(f'{index}: {sentence}')"
   ]
  },
  {
   "cell_type": "code",
   "execution_count": 38,
   "id": "0d175882-8d17-4599-9aed-22e366226d4b",
   "metadata": {},
   "outputs": [
    {
     "name": "stdout",
     "output_type": "stream",
     "text": [
      "[Machine, learning, is, an, important, component, of, the, growing, field, of, data, science, ., Through, the, use, of, statistical, methods, ,, algorithms, are, trained, to, make, classifications, or, predictions, ,, uncovering, key, insights, within, data, mining, projects, ., These, insights, subsequently, drive, decision, making, within, applications, and, businesses, ,, ideally, impacting, key, growth, metrics, ., As, big, data, continues, to, expand, and, grow, ,, the, market, demand, for, data, scientists, will, increase, ,, requiring, them, to, assist, in, the, identification, of, the, most, relevant, business, questions, and, subsequently, the, data, to, answer, them, .]\n"
     ]
    }
   ],
   "source": [
    "print([token for token in nlp_file])"
   ]
  },
  {
   "cell_type": "code",
   "execution_count": 41,
   "id": "e2b14016-f6ff-4642-950e-5ae89096e097",
   "metadata": {},
   "outputs": [
    {
     "name": "stdout",
     "output_type": "stream",
     "text": [
      "Machine Xxxxx\n",
      "learning xxxx\n",
      "is xx\n",
      "an xx\n",
      "important xxxx\n",
      "component xxxx\n",
      "of xx\n",
      "the xxx\n",
      "growing xxxx\n",
      "field xxxx\n",
      "of xx\n",
      "data xxxx\n",
      "science xxxx\n",
      ". .\n",
      "Through Xxxxx\n",
      "the xxx\n",
      "use xxx\n",
      "of xx\n",
      "statistical xxxx\n",
      "methods xxxx\n",
      ", ,\n",
      "algorithms xxxx\n",
      "are xxx\n",
      "trained xxxx\n",
      "to xx\n",
      "make xxxx\n",
      "classifications xxxx\n",
      "or xx\n",
      "predictions xxxx\n",
      ", ,\n",
      "uncovering xxxx\n",
      "key xxx\n",
      "insights xxxx\n",
      "within xxxx\n",
      "data xxxx\n",
      "mining xxxx\n",
      "projects xxxx\n",
      ". .\n",
      "These Xxxxx\n",
      "insights xxxx\n",
      "subsequently xxxx\n",
      "drive xxxx\n",
      "decision xxxx\n",
      "making xxxx\n",
      "within xxxx\n",
      "applications xxxx\n",
      "and xxx\n",
      "businesses xxxx\n",
      ", ,\n",
      "ideally xxxx\n",
      "impacting xxxx\n",
      "key xxx\n",
      "growth xxxx\n",
      "metrics xxxx\n",
      ". .\n",
      "As Xx\n",
      "big xxx\n",
      "data xxxx\n",
      "continues xxxx\n",
      "to xx\n",
      "expand xxxx\n",
      "and xxx\n",
      "grow xxxx\n",
      ", ,\n",
      "the xxx\n",
      "market xxxx\n",
      "demand xxxx\n",
      "for xxx\n",
      "data xxxx\n",
      "scientists xxxx\n",
      "will xxxx\n",
      "increase xxxx\n",
      ", ,\n",
      "requiring xxxx\n",
      "them xxxx\n",
      "to xx\n",
      "assist xxxx\n",
      "in xx\n",
      "the xxx\n",
      "identification xxxx\n",
      "of xx\n",
      "the xxx\n",
      "most xxxx\n",
      "relevant xxxx\n",
      "business xxxx\n",
      "questions xxxx\n",
      "and xxx\n",
      "subsequently xxxx\n",
      "the xxx\n",
      "data xxxx\n",
      "to xx\n",
      "answer xxxx\n",
      "them xxxx\n",
      ". .\n"
     ]
    }
   ],
   "source": [
    "for word in nlp_file:\n",
    "    print(word.text, word.shape_)"
   ]
  },
  {
   "cell_type": "code",
   "execution_count": 42,
   "id": "add186c5-194d-4c7a-9810-17aac6155661",
   "metadata": {},
   "outputs": [
    {
     "name": "stdout",
     "output_type": "stream",
     "text": [
      "Hello Xxxxx True False\n",
      "HELLO XXXX True False\n",
      "heLLo xxXXx True False\n"
     ]
    }
   ],
   "source": [
    "ex_text = nlp('Hello HELLO heLLo') \n",
    "for word in ex_text:\n",
    "    print(word.text, word.shape_, word.is_alpha, word.is_stop)"
   ]
  },
  {
   "cell_type": "markdown",
   "id": "77051566-14c3-4cbd-8282-96793e7e36a9",
   "metadata": {},
   "source": [
    "### Part of speech tagging "
   ]
  },
  {
   "cell_type": "code",
   "execution_count": 51,
   "id": "0bccfdf2-5529-4963-829e-ab9b1631357c",
   "metadata": {},
   "outputs": [
    {
     "name": "stdout",
     "output_type": "stream",
     "text": [
      "he PRON PRP nsubj\n",
      "drinks VERB VBZ ROOT\n",
      "a DET DT det\n",
      "drink NOUN NN dobj\n"
     ]
    }
   ],
   "source": [
    "text1  =nlp('he drinks a drink')\n",
    "for word in text1:\n",
    "    print(word.text, word.pos_, word.tag_,word.dep_)"
   ]
  },
  {
   "cell_type": "code",
   "execution_count": 47,
   "id": "413e4ce9-301d-4b9f-8973-1d2d9bc1f43c",
   "metadata": {},
   "outputs": [
    {
     "data": {
      "text/plain": [
       "'pronoun, personal'"
      ]
     },
     "execution_count": 47,
     "metadata": {},
     "output_type": "execute_result"
    }
   ],
   "source": [
    "spacy.explain('PRP')"
   ]
  },
  {
   "cell_type": "code",
   "execution_count": 50,
   "id": "dddad213-039b-4103-979e-c65fa6def3e3",
   "metadata": {},
   "outputs": [
    {
     "name": "stdout",
     "output_type": "stream",
     "text": [
      "('Machine', 'noun, singular or mass')\n",
      "('learning', 'noun, singular or mass')\n",
      "('is', 'verb, 3rd person singular present')\n",
      "('an', 'determiner')\n",
      "('important', 'adjective (English), other noun-modifier (Chinese)')\n",
      "('component', 'noun, singular or mass')\n",
      "('of', 'conjunction, subordinating or preposition')\n",
      "('the', 'determiner')\n",
      "('growing', 'verb, gerund or present participle')\n",
      "('field', 'noun, singular or mass')\n",
      "('of', 'conjunction, subordinating or preposition')\n",
      "('data', 'noun, plural')\n",
      "('science', 'noun, singular or mass')\n",
      "('.', 'punctuation mark, sentence closer')\n",
      "('Through', 'conjunction, subordinating or preposition')\n",
      "('the', 'determiner')\n",
      "('use', 'noun, singular or mass')\n",
      "('of', 'conjunction, subordinating or preposition')\n",
      "('statistical', 'adjective (English), other noun-modifier (Chinese)')\n",
      "('methods', 'noun, plural')\n",
      "(',', 'punctuation mark, comma')\n",
      "('algorithms', 'noun, plural')\n",
      "('are', 'verb, non-3rd person singular present')\n",
      "('trained', 'verb, past participle')\n",
      "('to', 'infinitival \"to\"')\n",
      "('make', 'verb, base form')\n",
      "('classifications', 'noun, plural')\n",
      "('or', 'conjunction, coordinating')\n",
      "('predictions', 'noun, plural')\n",
      "(',', 'punctuation mark, comma')\n",
      "('uncovering', 'verb, gerund or present participle')\n",
      "('key', 'adjective (English), other noun-modifier (Chinese)')\n",
      "('insights', 'noun, plural')\n",
      "('within', 'conjunction, subordinating or preposition')\n",
      "('data', 'noun, plural')\n",
      "('mining', 'noun, singular or mass')\n",
      "('projects', 'noun, plural')\n",
      "('.', 'punctuation mark, sentence closer')\n",
      "('These', 'determiner')\n",
      "('insights', 'noun, plural')\n",
      "('subsequently', 'adverb')\n",
      "('drive', 'verb, non-3rd person singular present')\n",
      "('decision', 'noun, singular or mass')\n",
      "('making', 'noun, singular or mass')\n",
      "('within', 'conjunction, subordinating or preposition')\n",
      "('applications', 'noun, plural')\n",
      "('and', 'conjunction, coordinating')\n",
      "('businesses', 'noun, plural')\n",
      "(',', 'punctuation mark, comma')\n",
      "('ideally', 'adverb')\n",
      "('impacting', 'verb, gerund or present participle')\n",
      "('key', 'adjective (English), other noun-modifier (Chinese)')\n",
      "('growth', 'noun, singular or mass')\n",
      "('metrics', 'noun, plural')\n",
      "('.', 'punctuation mark, sentence closer')\n",
      "('As', 'conjunction, subordinating or preposition')\n",
      "('big', 'adjective (English), other noun-modifier (Chinese)')\n",
      "('data', 'noun, singular or mass')\n",
      "('continues', 'verb, 3rd person singular present')\n",
      "('to', 'infinitival \"to\"')\n",
      "('expand', 'verb, base form')\n",
      "('and', 'conjunction, coordinating')\n",
      "('grow', 'verb, base form')\n",
      "(',', 'punctuation mark, comma')\n",
      "('the', 'determiner')\n",
      "('market', 'noun, singular or mass')\n",
      "('demand', 'noun, singular or mass')\n",
      "('for', 'conjunction, subordinating or preposition')\n",
      "('data', 'noun, plural')\n",
      "('scientists', 'noun, plural')\n",
      "('will', 'verb, modal auxiliary')\n",
      "('increase', 'verb, base form')\n",
      "(',', 'punctuation mark, comma')\n",
      "('requiring', 'verb, gerund or present participle')\n",
      "('them', 'pronoun, personal')\n",
      "('to', 'infinitival \"to\"')\n",
      "('assist', 'verb, base form')\n",
      "('in', 'conjunction, subordinating or preposition')\n",
      "('the', 'determiner')\n",
      "('identification', 'noun, singular or mass')\n",
      "('of', 'conjunction, subordinating or preposition')\n",
      "('the', 'determiner')\n",
      "('most', 'adverb, superlative')\n",
      "('relevant', 'adjective (English), other noun-modifier (Chinese)')\n",
      "('business', 'noun, singular or mass')\n",
      "('questions', 'noun, plural')\n",
      "('and', 'conjunction, coordinating')\n",
      "('subsequently', 'adverb')\n",
      "('the', 'determiner')\n",
      "('data', 'noun, plural')\n",
      "('to', 'infinitival \"to\"')\n",
      "('answer', 'verb, base form')\n",
      "('them', 'pronoun, personal')\n",
      "('.', 'punctuation mark, sentence closer')\n"
     ]
    }
   ],
   "source": [
    "for token in nlp_file:\n",
    "    print((token.text,spacy.explain(token.tag_)))"
   ]
  },
  {
   "cell_type": "markdown",
   "id": "7986954f-4304-4f61-88eb-26878bcb09fb",
   "metadata": {},
   "source": [
    "### Visualizing dependency using displacy "
   ]
  },
  {
   "cell_type": "code",
   "execution_count": 56,
   "id": "e1c3f374-fe60-44c4-82a5-90ff25530479",
   "metadata": {},
   "outputs": [
    {
     "name": "stdout",
     "output_type": "stream",
     "text": [
      "Machine learning is an important component of the growing field\n"
     ]
    },
    {
     "data": {
      "text/html": [
       "<span class=\"tex2jax_ignore\"><svg xmlns=\"http://www.w3.org/2000/svg\" xmlns:xlink=\"http://www.w3.org/1999/xlink\" xml:lang=\"en\" id=\"aa9a16da81984fbe8210db9a9e7f5126-0\" class=\"displacy\" width=\"1800\" height=\"399.5\" direction=\"ltr\" style=\"max-width: none; height: 399.5px; color: #000000; background: #ffffff; font-family: Arial; direction: ltr\">\n",
       "<text class=\"displacy-token\" fill=\"currentColor\" text-anchor=\"middle\" y=\"309.5\">\n",
       "    <tspan class=\"displacy-word\" fill=\"currentColor\" x=\"50\">Machine</tspan>\n",
       "    <tspan class=\"displacy-tag\" dy=\"2em\" fill=\"currentColor\" x=\"50\">NOUN</tspan>\n",
       "</text>\n",
       "\n",
       "<text class=\"displacy-token\" fill=\"currentColor\" text-anchor=\"middle\" y=\"309.5\">\n",
       "    <tspan class=\"displacy-word\" fill=\"currentColor\" x=\"225\">learning</tspan>\n",
       "    <tspan class=\"displacy-tag\" dy=\"2em\" fill=\"currentColor\" x=\"225\">NOUN</tspan>\n",
       "</text>\n",
       "\n",
       "<text class=\"displacy-token\" fill=\"currentColor\" text-anchor=\"middle\" y=\"309.5\">\n",
       "    <tspan class=\"displacy-word\" fill=\"currentColor\" x=\"400\">is</tspan>\n",
       "    <tspan class=\"displacy-tag\" dy=\"2em\" fill=\"currentColor\" x=\"400\">AUX</tspan>\n",
       "</text>\n",
       "\n",
       "<text class=\"displacy-token\" fill=\"currentColor\" text-anchor=\"middle\" y=\"309.5\">\n",
       "    <tspan class=\"displacy-word\" fill=\"currentColor\" x=\"575\">an</tspan>\n",
       "    <tspan class=\"displacy-tag\" dy=\"2em\" fill=\"currentColor\" x=\"575\">DET</tspan>\n",
       "</text>\n",
       "\n",
       "<text class=\"displacy-token\" fill=\"currentColor\" text-anchor=\"middle\" y=\"309.5\">\n",
       "    <tspan class=\"displacy-word\" fill=\"currentColor\" x=\"750\">important</tspan>\n",
       "    <tspan class=\"displacy-tag\" dy=\"2em\" fill=\"currentColor\" x=\"750\">ADJ</tspan>\n",
       "</text>\n",
       "\n",
       "<text class=\"displacy-token\" fill=\"currentColor\" text-anchor=\"middle\" y=\"309.5\">\n",
       "    <tspan class=\"displacy-word\" fill=\"currentColor\" x=\"925\">component</tspan>\n",
       "    <tspan class=\"displacy-tag\" dy=\"2em\" fill=\"currentColor\" x=\"925\">NOUN</tspan>\n",
       "</text>\n",
       "\n",
       "<text class=\"displacy-token\" fill=\"currentColor\" text-anchor=\"middle\" y=\"309.5\">\n",
       "    <tspan class=\"displacy-word\" fill=\"currentColor\" x=\"1100\">of</tspan>\n",
       "    <tspan class=\"displacy-tag\" dy=\"2em\" fill=\"currentColor\" x=\"1100\">ADP</tspan>\n",
       "</text>\n",
       "\n",
       "<text class=\"displacy-token\" fill=\"currentColor\" text-anchor=\"middle\" y=\"309.5\">\n",
       "    <tspan class=\"displacy-word\" fill=\"currentColor\" x=\"1275\">the</tspan>\n",
       "    <tspan class=\"displacy-tag\" dy=\"2em\" fill=\"currentColor\" x=\"1275\">DET</tspan>\n",
       "</text>\n",
       "\n",
       "<text class=\"displacy-token\" fill=\"currentColor\" text-anchor=\"middle\" y=\"309.5\">\n",
       "    <tspan class=\"displacy-word\" fill=\"currentColor\" x=\"1450\">growing</tspan>\n",
       "    <tspan class=\"displacy-tag\" dy=\"2em\" fill=\"currentColor\" x=\"1450\">VERB</tspan>\n",
       "</text>\n",
       "\n",
       "<text class=\"displacy-token\" fill=\"currentColor\" text-anchor=\"middle\" y=\"309.5\">\n",
       "    <tspan class=\"displacy-word\" fill=\"currentColor\" x=\"1625\">field</tspan>\n",
       "    <tspan class=\"displacy-tag\" dy=\"2em\" fill=\"currentColor\" x=\"1625\">NOUN</tspan>\n",
       "</text>\n",
       "\n",
       "<g class=\"displacy-arrow\">\n",
       "    <path class=\"displacy-arc\" id=\"arrow-aa9a16da81984fbe8210db9a9e7f5126-0-0\" stroke-width=\"2px\" d=\"M70,264.5 C70,177.0 215.0,177.0 215.0,264.5\" fill=\"none\" stroke=\"currentColor\"/>\n",
       "    <text dy=\"1.25em\" style=\"font-size: 0.8em; letter-spacing: 1px\">\n",
       "        <textPath xlink:href=\"#arrow-aa9a16da81984fbe8210db9a9e7f5126-0-0\" class=\"displacy-label\" startOffset=\"50%\" side=\"left\" fill=\"currentColor\" text-anchor=\"middle\">compound</textPath>\n",
       "    </text>\n",
       "    <path class=\"displacy-arrowhead\" d=\"M70,266.5 L62,254.5 78,254.5\" fill=\"currentColor\"/>\n",
       "</g>\n",
       "\n",
       "<g class=\"displacy-arrow\">\n",
       "    <path class=\"displacy-arc\" id=\"arrow-aa9a16da81984fbe8210db9a9e7f5126-0-1\" stroke-width=\"2px\" d=\"M245,264.5 C245,177.0 390.0,177.0 390.0,264.5\" fill=\"none\" stroke=\"currentColor\"/>\n",
       "    <text dy=\"1.25em\" style=\"font-size: 0.8em; letter-spacing: 1px\">\n",
       "        <textPath xlink:href=\"#arrow-aa9a16da81984fbe8210db9a9e7f5126-0-1\" class=\"displacy-label\" startOffset=\"50%\" side=\"left\" fill=\"currentColor\" text-anchor=\"middle\">nsubj</textPath>\n",
       "    </text>\n",
       "    <path class=\"displacy-arrowhead\" d=\"M245,266.5 L237,254.5 253,254.5\" fill=\"currentColor\"/>\n",
       "</g>\n",
       "\n",
       "<g class=\"displacy-arrow\">\n",
       "    <path class=\"displacy-arc\" id=\"arrow-aa9a16da81984fbe8210db9a9e7f5126-0-2\" stroke-width=\"2px\" d=\"M595,264.5 C595,89.5 920.0,89.5 920.0,264.5\" fill=\"none\" stroke=\"currentColor\"/>\n",
       "    <text dy=\"1.25em\" style=\"font-size: 0.8em; letter-spacing: 1px\">\n",
       "        <textPath xlink:href=\"#arrow-aa9a16da81984fbe8210db9a9e7f5126-0-2\" class=\"displacy-label\" startOffset=\"50%\" side=\"left\" fill=\"currentColor\" text-anchor=\"middle\">det</textPath>\n",
       "    </text>\n",
       "    <path class=\"displacy-arrowhead\" d=\"M595,266.5 L587,254.5 603,254.5\" fill=\"currentColor\"/>\n",
       "</g>\n",
       "\n",
       "<g class=\"displacy-arrow\">\n",
       "    <path class=\"displacy-arc\" id=\"arrow-aa9a16da81984fbe8210db9a9e7f5126-0-3\" stroke-width=\"2px\" d=\"M770,264.5 C770,177.0 915.0,177.0 915.0,264.5\" fill=\"none\" stroke=\"currentColor\"/>\n",
       "    <text dy=\"1.25em\" style=\"font-size: 0.8em; letter-spacing: 1px\">\n",
       "        <textPath xlink:href=\"#arrow-aa9a16da81984fbe8210db9a9e7f5126-0-3\" class=\"displacy-label\" startOffset=\"50%\" side=\"left\" fill=\"currentColor\" text-anchor=\"middle\">amod</textPath>\n",
       "    </text>\n",
       "    <path class=\"displacy-arrowhead\" d=\"M770,266.5 L762,254.5 778,254.5\" fill=\"currentColor\"/>\n",
       "</g>\n",
       "\n",
       "<g class=\"displacy-arrow\">\n",
       "    <path class=\"displacy-arc\" id=\"arrow-aa9a16da81984fbe8210db9a9e7f5126-0-4\" stroke-width=\"2px\" d=\"M420,264.5 C420,2.0 925.0,2.0 925.0,264.5\" fill=\"none\" stroke=\"currentColor\"/>\n",
       "    <text dy=\"1.25em\" style=\"font-size: 0.8em; letter-spacing: 1px\">\n",
       "        <textPath xlink:href=\"#arrow-aa9a16da81984fbe8210db9a9e7f5126-0-4\" class=\"displacy-label\" startOffset=\"50%\" side=\"left\" fill=\"currentColor\" text-anchor=\"middle\">attr</textPath>\n",
       "    </text>\n",
       "    <path class=\"displacy-arrowhead\" d=\"M925.0,266.5 L933.0,254.5 917.0,254.5\" fill=\"currentColor\"/>\n",
       "</g>\n",
       "\n",
       "<g class=\"displacy-arrow\">\n",
       "    <path class=\"displacy-arc\" id=\"arrow-aa9a16da81984fbe8210db9a9e7f5126-0-5\" stroke-width=\"2px\" d=\"M945,264.5 C945,177.0 1090.0,177.0 1090.0,264.5\" fill=\"none\" stroke=\"currentColor\"/>\n",
       "    <text dy=\"1.25em\" style=\"font-size: 0.8em; letter-spacing: 1px\">\n",
       "        <textPath xlink:href=\"#arrow-aa9a16da81984fbe8210db9a9e7f5126-0-5\" class=\"displacy-label\" startOffset=\"50%\" side=\"left\" fill=\"currentColor\" text-anchor=\"middle\">prep</textPath>\n",
       "    </text>\n",
       "    <path class=\"displacy-arrowhead\" d=\"M1090.0,266.5 L1098.0,254.5 1082.0,254.5\" fill=\"currentColor\"/>\n",
       "</g>\n",
       "\n",
       "<g class=\"displacy-arrow\">\n",
       "    <path class=\"displacy-arc\" id=\"arrow-aa9a16da81984fbe8210db9a9e7f5126-0-6\" stroke-width=\"2px\" d=\"M1295,264.5 C1295,89.5 1620.0,89.5 1620.0,264.5\" fill=\"none\" stroke=\"currentColor\"/>\n",
       "    <text dy=\"1.25em\" style=\"font-size: 0.8em; letter-spacing: 1px\">\n",
       "        <textPath xlink:href=\"#arrow-aa9a16da81984fbe8210db9a9e7f5126-0-6\" class=\"displacy-label\" startOffset=\"50%\" side=\"left\" fill=\"currentColor\" text-anchor=\"middle\">det</textPath>\n",
       "    </text>\n",
       "    <path class=\"displacy-arrowhead\" d=\"M1295,266.5 L1287,254.5 1303,254.5\" fill=\"currentColor\"/>\n",
       "</g>\n",
       "\n",
       "<g class=\"displacy-arrow\">\n",
       "    <path class=\"displacy-arc\" id=\"arrow-aa9a16da81984fbe8210db9a9e7f5126-0-7\" stroke-width=\"2px\" d=\"M1470,264.5 C1470,177.0 1615.0,177.0 1615.0,264.5\" fill=\"none\" stroke=\"currentColor\"/>\n",
       "    <text dy=\"1.25em\" style=\"font-size: 0.8em; letter-spacing: 1px\">\n",
       "        <textPath xlink:href=\"#arrow-aa9a16da81984fbe8210db9a9e7f5126-0-7\" class=\"displacy-label\" startOffset=\"50%\" side=\"left\" fill=\"currentColor\" text-anchor=\"middle\">amod</textPath>\n",
       "    </text>\n",
       "    <path class=\"displacy-arrowhead\" d=\"M1470,266.5 L1462,254.5 1478,254.5\" fill=\"currentColor\"/>\n",
       "</g>\n",
       "\n",
       "<g class=\"displacy-arrow\">\n",
       "    <path class=\"displacy-arc\" id=\"arrow-aa9a16da81984fbe8210db9a9e7f5126-0-8\" stroke-width=\"2px\" d=\"M1120,264.5 C1120,2.0 1625.0,2.0 1625.0,264.5\" fill=\"none\" stroke=\"currentColor\"/>\n",
       "    <text dy=\"1.25em\" style=\"font-size: 0.8em; letter-spacing: 1px\">\n",
       "        <textPath xlink:href=\"#arrow-aa9a16da81984fbe8210db9a9e7f5126-0-8\" class=\"displacy-label\" startOffset=\"50%\" side=\"left\" fill=\"currentColor\" text-anchor=\"middle\">pobj</textPath>\n",
       "    </text>\n",
       "    <path class=\"displacy-arrowhead\" d=\"M1625.0,266.5 L1633.0,254.5 1617.0,254.5\" fill=\"currentColor\"/>\n",
       "</g>\n",
       "</svg></span>"
      ],
      "text/plain": [
       "<IPython.core.display.HTML object>"
      ]
     },
     "metadata": {},
     "output_type": "display_data"
    }
   ],
   "source": [
    "from spacy import displacy \n",
    "print(nlp_file[0:10])\n",
    "displacy.render(nlp_file[0:10], style = 'dep',jupyter = True)"
   ]
  },
  {
   "cell_type": "markdown",
   "id": "e34786f5-217c-45d2-815e-cf23d8e9f31d",
   "metadata": {},
   "source": [
    "### Lemmatizing "
   ]
  },
  {
   "cell_type": "code",
   "execution_count": 60,
   "id": "ec802864-5250-4885-ae1c-eefee081200a",
   "metadata": {},
   "outputs": [
    {
     "data": {
      "text/plain": [
       "Machine learning is an important component of the growing field of data science. Through the use of statistical methods, algorithms are trained to make classifications or predictions, uncovering key insights within data mining projects. These insights subsequently drive decision making within applications and businesses, ideally impacting key growth metrics."
      ]
     },
     "execution_count": 60,
     "metadata": {},
     "output_type": "execute_result"
    }
   ],
   "source": [
    "document = nlp_file[0:55]\n",
    "document"
   ]
  },
  {
   "cell_type": "code",
   "execution_count": 61,
   "id": "c76dd6ec-569b-4286-9236-745c58a06cea",
   "metadata": {},
   "outputs": [
    {
     "name": "stdout",
     "output_type": "stream",
     "text": [
      "Machine machine NOUN\n",
      "learning learning NOUN\n",
      "is be AUX\n",
      "an an DET\n",
      "important important ADJ\n",
      "component component NOUN\n",
      "of of ADP\n",
      "the the DET\n",
      "growing grow VERB\n",
      "field field NOUN\n",
      "of of ADP\n",
      "data datum NOUN\n",
      "science science NOUN\n",
      ". . PUNCT\n",
      "Through through ADP\n",
      "the the DET\n",
      "use use NOUN\n",
      "of of ADP\n",
      "statistical statistical ADJ\n",
      "methods method NOUN\n",
      ", , PUNCT\n",
      "algorithms algorithm NOUN\n",
      "are be AUX\n",
      "trained train VERB\n",
      "to to PART\n",
      "make make VERB\n",
      "classifications classification NOUN\n",
      "or or CCONJ\n",
      "predictions prediction NOUN\n",
      ", , PUNCT\n",
      "uncovering uncover VERB\n",
      "key key ADJ\n",
      "insights insight NOUN\n",
      "within within ADP\n",
      "data datum NOUN\n",
      "mining mining NOUN\n",
      "projects project NOUN\n",
      ". . PUNCT\n",
      "These these DET\n",
      "insights insight NOUN\n",
      "subsequently subsequently ADV\n",
      "drive drive VERB\n",
      "decision decision NOUN\n",
      "making making NOUN\n",
      "within within ADP\n",
      "applications application NOUN\n",
      "and and CCONJ\n",
      "businesses business NOUN\n",
      ", , PUNCT\n",
      "ideally ideally ADV\n",
      "impacting impact VERB\n",
      "key key ADJ\n",
      "growth growth NOUN\n",
      "metrics metric NOUN\n",
      ". . PUNCT\n"
     ]
    }
   ],
   "source": [
    "for word in document:\n",
    "    print(word.text, word.lemma_,word.pos_) "
   ]
  },
  {
   "cell_type": "markdown",
   "id": "ab8f0c4d-40c5-4dac-8de2-652eaac00c30",
   "metadata": {},
   "source": [
    "### Named entity recognition or detection \n",
    " * classifying contents by getting relevant tags \n",
    " * improve search algorithms \n",
    " * for content recommendations\n",
    " * for information extraction "
   ]
  },
  {
   "cell_type": "code",
   "execution_count": 78,
   "id": "91aad4f3-fd1d-4a57-bb86-4322331511b1",
   "metadata": {},
   "outputs": [
    {
     "name": "stdout",
     "output_type": "stream",
     "text": [
      "Apple 0 5 ORG\n",
      "U.K. 27 31 GPE\n",
      "$1 billion 44 54 MONEY\n"
     ]
    }
   ],
   "source": [
    "doc = nlp(\"Apple is looking at buying U.K. startup for $1 billion\")\n",
    "\n",
    "for ent in doc.ents:\n",
    "    print(ent.text, ent.start_char, ent.end_char, ent.label_)"
   ]
  },
  {
   "cell_type": "code",
   "execution_count": 79,
   "id": "4830b69c-074f-488b-b9bf-2ed3f93d1dcb",
   "metadata": {},
   "outputs": [
    {
     "data": {
      "text/html": [
       "<span class=\"tex2jax_ignore\"><div class=\"entities\" style=\"line-height: 2.5; direction: ltr\">\n",
       "<mark class=\"entity\" style=\"background: #7aecec; padding: 0.45em 0.6em; margin: 0 0.25em; line-height: 1; border-radius: 0.35em;\">\n",
       "    Apple\n",
       "    <span style=\"font-size: 0.8em; font-weight: bold; line-height: 1; border-radius: 0.35em; vertical-align: middle; margin-left: 0.5rem\">ORG</span>\n",
       "</mark>\n",
       " is looking at buying \n",
       "<mark class=\"entity\" style=\"background: #feca74; padding: 0.45em 0.6em; margin: 0 0.25em; line-height: 1; border-radius: 0.35em;\">\n",
       "    U.K.\n",
       "    <span style=\"font-size: 0.8em; font-weight: bold; line-height: 1; border-radius: 0.35em; vertical-align: middle; margin-left: 0.5rem\">GPE</span>\n",
       "</mark>\n",
       " startup for \n",
       "<mark class=\"entity\" style=\"background: #e4e7d2; padding: 0.45em 0.6em; margin: 0 0.25em; line-height: 1; border-radius: 0.35em;\">\n",
       "    $1 billion\n",
       "    <span style=\"font-size: 0.8em; font-weight: bold; line-height: 1; border-radius: 0.35em; vertical-align: middle; margin-left: 0.5rem\">MONEY</span>\n",
       "</mark>\n",
       "</div></span>"
      ],
      "text/plain": [
       "<IPython.core.display.HTML object>"
      ]
     },
     "metadata": {},
     "output_type": "display_data"
    }
   ],
   "source": [
    "displacy.render(doc, style = 'ent')"
   ]
  },
  {
   "cell_type": "code",
   "execution_count": 80,
   "id": "7be036e2-59f2-4bdc-ba59-7c9d506e8f72",
   "metadata": {},
   "outputs": [
    {
     "data": {
      "text/plain": [
       "'Companies, agencies, institutions, etc.'"
      ]
     },
     "execution_count": 80,
     "metadata": {},
     "output_type": "execute_result"
    }
   ],
   "source": [
    "spacy.explain('ORG')"
   ]
  }
 ],
 "metadata": {
  "kernelspec": {
   "display_name": "Python 3 (ipykernel)",
   "language": "python",
   "name": "python3"
  },
  "language_info": {
   "codemirror_mode": {
    "name": "ipython",
    "version": 3
   },
   "file_extension": ".py",
   "mimetype": "text/x-python",
   "name": "python",
   "nbconvert_exporter": "python",
   "pygments_lexer": "ipython3",
   "version": "3.8.8"
  }
 },
 "nbformat": 4,
 "nbformat_minor": 5
}
