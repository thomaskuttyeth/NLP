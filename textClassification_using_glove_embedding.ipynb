{
 "cells": [
  {
   "cell_type": "code",
   "execution_count": 1,
   "id": "a354d91f",
   "metadata": {},
   "outputs": [],
   "source": [
    "import os\n",
    "import nltk\n",
    "import sklearn\n",
    "import pandas as pd \n",
    "from string import punctuation\n",
    "import re\n",
    "import os\n",
    "import urllib.request\n",
    "import matplotlib.pyplot as plt\n",
    "from scipy import spatial\n",
    "from sklearn.manifold import TSNE\n",
    "import numpy as np\n",
    "import tensorflow as tf\n",
    "from tensorflow import keras"
   ]
  },
  {
   "cell_type": "code",
   "execution_count": 2,
   "id": "0d3525a0",
   "metadata": {},
   "outputs": [],
   "source": [
    "def preprocess_text(text):\n",
    "    text = text.lower()  # Lowercase text\n",
    "    text = re.sub(f\"[{re.escape(punctuation)}]\", \"\", text)  # Remove punctuation\n",
    "    text = \" \".join(text.split())  # Remove extra spaces, tabs, and new lines\n",
    "    return text"
   ]
  },
  {
   "cell_type": "code",
   "execution_count": 3,
   "id": "ab491c9c",
   "metadata": {},
   "outputs": [
    {
     "name": "stdout",
     "output_type": "stream",
     "text": [
      " Volume in drive C has no label.\n",
      " Volume Serial Number is 1C5F-6EFD\n",
      "\n",
      " Directory of C:\\Users\\thoma\\Desktop\n",
      "\n",
      "06/07/2022  09:06 PM    <DIR>          .\n",
      "06/07/2022  09:06 PM    <DIR>          ..\n",
      "06/07/2022  08:27 PM    <DIR>          .ipynb_checkpoints\n",
      "06/07/2022  08:20 PM         1,460,333 finaldata9999.xlsx\n",
      "06/07/2022  08:56 PM       204,963,840 glove.6B.zip\n",
      "06/07/2022  08:57 PM            24,833 Naive Bayes classification - APS .ipynb\n",
      "05/29/2022  06:12 PM    <DIR>          pytorchnotes\n",
      "06/07/2022  08:06 PM    <DIR>          rNotes\n",
      "06/07/2022  09:06 PM            11,132 textClassification.ipynb\n",
      "05/30/2022  10:38 PM    <DIR>          timeseriesnotes\n",
      "               4 File(s)    206,460,138 bytes\n",
      "               6 Dir(s)  47,180,931,072 bytes free\n"
     ]
    }
   ],
   "source": [
    "!dir"
   ]
  },
  {
   "cell_type": "code",
   "execution_count": 4,
   "id": "5c9cc39c",
   "metadata": {},
   "outputs": [],
   "source": [
    "df= pd.read_excel('finaldata9999.xlsx',usecols = ['label','text'])"
   ]
  },
  {
   "cell_type": "code",
   "execution_count": 5,
   "id": "cad4853c",
   "metadata": {},
   "outputs": [
    {
     "data": {
      "text/html": [
       "<div>\n",
       "<style scoped>\n",
       "    .dataframe tbody tr th:only-of-type {\n",
       "        vertical-align: middle;\n",
       "    }\n",
       "\n",
       "    .dataframe tbody tr th {\n",
       "        vertical-align: top;\n",
       "    }\n",
       "\n",
       "    .dataframe thead th {\n",
       "        text-align: right;\n",
       "    }\n",
       "</style>\n",
       "<table border=\"1\" class=\"dataframe\">\n",
       "  <thead>\n",
       "    <tr style=\"text-align: right;\">\n",
       "      <th></th>\n",
       "      <th>label</th>\n",
       "      <th>text</th>\n",
       "    </tr>\n",
       "  </thead>\n",
       "  <tbody>\n",
       "    <tr>\n",
       "      <th>0</th>\n",
       "      <td>user_info</td>\n",
       "      <td>['KARRI.KUMAR,Lead User Experience Designer Po...</td>\n",
       "    </tr>\n",
       "    <tr>\n",
       "      <th>1</th>\n",
       "      <td>projects</td>\n",
       "      <td>[\"PROJECTS Home / Small and Large Enterprise P...</td>\n",
       "    </tr>\n",
       "    <tr>\n",
       "      <th>2</th>\n",
       "      <td>projects</td>\n",
       "      <td>['Smart Dock (Computer and Hardware) Role: Lea...</td>\n",
       "    </tr>\n",
       "    <tr>\n",
       "      <th>3</th>\n",
       "      <td>projects</td>\n",
       "      <td>['EXPERIENCE\\n', '\\n', 'Baker Hughes, Staff UX...</td>\n",
       "    </tr>\n",
       "    <tr>\n",
       "      <th>4</th>\n",
       "      <td>projects</td>\n",
       "      <td>['Project: Insightl Role: Lead UX Designer Wit...</td>\n",
       "    </tr>\n",
       "  </tbody>\n",
       "</table>\n",
       "</div>"
      ],
      "text/plain": [
       "       label                                               text\n",
       "0  user_info  ['KARRI.KUMAR,Lead User Experience Designer Po...\n",
       "1   projects  [\"PROJECTS Home / Small and Large Enterprise P...\n",
       "2   projects  ['Smart Dock (Computer and Hardware) Role: Lea...\n",
       "3   projects  ['EXPERIENCE\\n', '\\n', 'Baker Hughes, Staff UX...\n",
       "4   projects  ['Project: Insightl Role: Lead UX Designer Wit..."
      ]
     },
     "execution_count": 5,
     "metadata": {},
     "output_type": "execute_result"
    }
   ],
   "source": [
    "df.head()"
   ]
  },
  {
   "cell_type": "code",
   "execution_count": 6,
   "id": "0f3f7fdf",
   "metadata": {},
   "outputs": [],
   "source": [
    "df['text'] = [preprocess_text(m) for m in df['text']]"
   ]
  },
  {
   "cell_type": "code",
   "execution_count": 7,
   "id": "2711b8dc",
   "metadata": {},
   "outputs": [
    {
     "data": {
      "text/html": [
       "<div>\n",
       "<style scoped>\n",
       "    .dataframe tbody tr th:only-of-type {\n",
       "        vertical-align: middle;\n",
       "    }\n",
       "\n",
       "    .dataframe tbody tr th {\n",
       "        vertical-align: top;\n",
       "    }\n",
       "\n",
       "    .dataframe thead th {\n",
       "        text-align: right;\n",
       "    }\n",
       "</style>\n",
       "<table border=\"1\" class=\"dataframe\">\n",
       "  <thead>\n",
       "    <tr style=\"text-align: right;\">\n",
       "      <th></th>\n",
       "      <th>label</th>\n",
       "      <th>text</th>\n",
       "    </tr>\n",
       "  </thead>\n",
       "  <tbody>\n",
       "    <tr>\n",
       "      <th>0</th>\n",
       "      <td>user_info</td>\n",
       "      <td>karrikumarlead user experience designer portfo...</td>\n",
       "    </tr>\n",
       "    <tr>\n",
       "      <th>1</th>\n",
       "      <td>projects</td>\n",
       "      <td>projects home small and large enterprise print...</td>\n",
       "    </tr>\n",
       "    <tr>\n",
       "      <th>2</th>\n",
       "      <td>projects</td>\n",
       "      <td>smart dock computer and hardware role lead ux ...</td>\n",
       "    </tr>\n",
       "    <tr>\n",
       "      <th>3</th>\n",
       "      <td>projects</td>\n",
       "      <td>experiencen n baker hughes staff ux designer m...</td>\n",
       "    </tr>\n",
       "    <tr>\n",
       "      <th>4</th>\n",
       "      <td>projects</td>\n",
       "      <td>project insightl role lead ux designer with re...</td>\n",
       "    </tr>\n",
       "  </tbody>\n",
       "</table>\n",
       "</div>"
      ],
      "text/plain": [
       "       label                                               text\n",
       "0  user_info  karrikumarlead user experience designer portfo...\n",
       "1   projects  projects home small and large enterprise print...\n",
       "2   projects  smart dock computer and hardware role lead ux ...\n",
       "3   projects  experiencen n baker hughes staff ux designer m...\n",
       "4   projects  project insightl role lead ux designer with re..."
      ]
     },
     "execution_count": 7,
     "metadata": {},
     "output_type": "execute_result"
    }
   ],
   "source": [
    "df.head()"
   ]
  },
  {
   "cell_type": "code",
   "execution_count": 8,
   "id": "d5d51226",
   "metadata": {},
   "outputs": [
    {
     "data": {
      "text/plain": [
       "{'certifications': 0,\n",
       " 'declaration': 1,\n",
       " 'education': 2,\n",
       " 'personal_details': 3,\n",
       " 'projects': 4,\n",
       " 'skills': 5,\n",
       " 'summary': 6,\n",
       " 'user_info': 7}"
      ]
     },
     "execution_count": 8,
     "metadata": {},
     "output_type": "execute_result"
    }
   ],
   "source": [
    "# storing the label keys and their indexes\n",
    "labels = np.unique(np.array(df.label))\n",
    "label_index = [i for i in range(len(labels))]\n",
    "label_key_pair = dict(zip(labels,label_index))\n",
    "label_key_pair"
   ]
  },
  {
   "cell_type": "code",
   "execution_count": 9,
   "id": "1f4d67a8",
   "metadata": {},
   "outputs": [],
   "source": [
    "# converting the labels to their index value in the df\n",
    "df.label = [label_key_pair[i] for i in df.label]"
   ]
  },
  {
   "cell_type": "code",
   "execution_count": 10,
   "id": "ff266bba",
   "metadata": {},
   "outputs": [],
   "source": [
    "train_samples = list(df.text)\n",
    "train_labels = list(df.label)"
   ]
  },
  {
   "cell_type": "code",
   "execution_count": 11,
   "id": "34fdab46",
   "metadata": {},
   "outputs": [],
   "source": [
    "from tensorflow.keras.layers import TextVectorization\n",
    "vectorizer = TextVectorization(max_tokens=20000, output_sequence_length=200)\n",
    "text_ds = tf.data.Dataset.from_tensor_slices(train_samples).batch(128)\n",
    "vectorizer.adapt(text_ds)"
   ]
  },
  {
   "cell_type": "code",
   "execution_count": 15,
   "id": "b4fadfb6",
   "metadata": {},
   "outputs": [],
   "source": [
    "voc = vectorizer.get_vocabulary()\n",
    "word_index = dict(zip(voc, range(len(voc))))"
   ]
  },
  {
   "cell_type": "code",
   "execution_count": 19,
   "id": "372e6722",
   "metadata": {},
   "outputs": [
    {
     "name": "stdout",
     "output_type": "stream",
     "text": [
      "Collecting wget\n",
      "  Downloading wget-3.2.zip (10 kB)\n",
      "Building wheels for collected packages: wget\n",
      "  Building wheel for wget (setup.py): started\n",
      "  Building wheel for wget (setup.py): finished with status 'done'\n",
      "  Created wheel for wget: filename=wget-3.2-py3-none-any.whl size=9675 sha256=4edbd007e3e652c309ef3ee53db7b243266f8d9a22b7aabf877b9c33596ca4f1\n",
      "  Stored in directory: c:\\users\\thoma\\appdata\\local\\pip\\cache\\wheels\\a1\\b6\\7c\\0e63e34eb06634181c63adacca38b79ff8f35c37e3c13e3c02\n",
      "Successfully built wget\n",
      "Installing collected packages: wget\n",
      "Successfully installed wget-3.2\n"
     ]
    }
   ],
   "source": [
    "!pip install wget"
   ]
  },
  {
   "cell_type": "code",
   "execution_count": 21,
   "id": "1cc98abf",
   "metadata": {},
   "outputs": [
    {
     "ename": "SyntaxError",
     "evalue": "invalid syntax (4146972783.py, line 1)",
     "output_type": "error",
     "traceback": [
      "\u001b[1;36m  File \u001b[1;32m\"C:\\Users\\thoma\\AppData\\Local\\Temp\\ipykernel_1448\\4146972783.py\"\u001b[1;36m, line \u001b[1;32m1\u001b[0m\n\u001b[1;33m    wget http://nlp.stanford.edu/data/glove.6B.zip\u001b[0m\n\u001b[1;37m            ^\u001b[0m\n\u001b[1;31mSyntaxError\u001b[0m\u001b[1;31m:\u001b[0m invalid syntax\n"
     ]
    }
   ],
   "source": [
    "wget http://nlp.stanford.edu/data/glove.6B.zip\n",
    "!unzip -q glove.6B.zip"
   ]
  },
  {
   "cell_type": "code",
   "execution_count": null,
   "id": "eb9fe8a2",
   "metadata": {},
   "outputs": [],
   "source": []
  },
  {
   "cell_type": "code",
   "execution_count": null,
   "id": "38d96288",
   "metadata": {},
   "outputs": [],
   "source": []
  }
 ],
 "metadata": {
  "kernelspec": {
   "display_name": "Python 3 (ipykernel)",
   "language": "python",
   "name": "python3"
  },
  "language_info": {
   "codemirror_mode": {
    "name": "ipython",
    "version": 3
   },
   "file_extension": ".py",
   "mimetype": "text/x-python",
   "name": "python",
   "nbconvert_exporter": "python",
   "pygments_lexer": "ipython3",
   "version": "3.7.13"
  }
 },
 "nbformat": 4,
 "nbformat_minor": 5
}
