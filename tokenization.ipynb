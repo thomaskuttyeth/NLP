{
 "cells": [
  {
   "cell_type": "markdown",
   "id": "12b8a793",
   "metadata": {},
   "source": [
    "## 1. Tokenization "
   ]
  },
  {
   "cell_type": "code",
   "execution_count": 1,
   "id": "d0cf44a3",
   "metadata": {},
   "outputs": [],
   "source": [
    "import tensorflow as tf \n",
    "from tensorflow import keras \n",
    "from tensorflow.keras.preprocessing.text import Tokenizer "
   ]
  },
  {
   "cell_type": "code",
   "execution_count": 8,
   "id": "64a1e612",
   "metadata": {},
   "outputs": [],
   "source": [
    "sentences = ['I love my dog','I love my cat', 'You love my dog']\n",
    "tokenizer = Tokenizer(num_words = 100)\n",
    "tokenizer.fit_on_texts(sentences)\n",
    "tokenizer = tokenizer.word_index"
   ]
  },
  {
   "cell_type": "code",
   "execution_count": 9,
   "id": "6032b671",
   "metadata": {},
   "outputs": [
    {
     "data": {
      "text/plain": [
       "{'love': 1, 'my': 2, 'i': 3, 'dog': 4, 'cat': 5, 'you': 6}"
      ]
     },
     "execution_count": 9,
     "metadata": {},
     "output_type": "execute_result"
    }
   ],
   "source": [
    "tokenizer"
   ]
  },
  {
   "cell_type": "markdown",
   "id": "7725cb40",
   "metadata": {},
   "source": [
    "## 2. Sequencing "
   ]
  },
  {
   "cell_type": "code",
   "execution_count": 10,
   "id": "e5e5d03e",
   "metadata": {},
   "outputs": [],
   "source": [
    "# from tensorflow.keras.preprocessing.text import Tokenizer \n",
    "sentences = [\n",
    "    'I love my dog',\n",
    "    'I love my cat',\n",
    "    'You love my dog',\n",
    "    'Do you think my dog is amazing?' \n",
    "]"
   ]
  },
  {
   "cell_type": "code",
   "execution_count": 14,
   "id": "be2e4598",
   "metadata": {},
   "outputs": [
    {
     "name": "stdout",
     "output_type": "stream",
     "text": [
      "{'my': 1, 'love': 2, 'dog': 3, 'i': 4, 'you': 5, 'cat': 6, 'do': 7, 'think': 8, 'is': 9, 'amazing': 10}\n"
     ]
    }
   ],
   "source": [
    "tokenizer = Tokenizer(num_words = 100)\n",
    "tokenizer.fit_on_texts(sentences) \n",
    "word_index = tokenizer.word_index \n",
    "print(word_index)"
   ]
  },
  {
   "cell_type": "code",
   "execution_count": 15,
   "id": "c7b90df6",
   "metadata": {},
   "outputs": [],
   "source": [
    "sequences = tokenizer.texts_to_sequences(sentences) "
   ]
  },
  {
   "cell_type": "code",
   "execution_count": 16,
   "id": "af2fbfcf",
   "metadata": {},
   "outputs": [
    {
     "name": "stdout",
     "output_type": "stream",
     "text": [
      "[[4, 2, 1, 3], [4, 2, 1, 6], [5, 2, 1, 3], [7, 5, 8, 1, 3, 9, 10]]\n"
     ]
    }
   ],
   "source": [
    "print(sequences)"
   ]
  },
  {
   "cell_type": "markdown",
   "id": "3ca0705f",
   "metadata": {},
   "source": [
    "## 3. How tokenizer manages the tokens "
   ]
  },
  {
   "cell_type": "code",
   "execution_count": 17,
   "id": "6e3b7959",
   "metadata": {},
   "outputs": [],
   "source": [
    "test_data = [\n",
    "    'i really love my dog',\n",
    "    'my dog loves my manatee'\n",
    "]"
   ]
  },
  {
   "cell_type": "code",
   "execution_count": 18,
   "id": "e6329356",
   "metadata": {},
   "outputs": [
    {
     "name": "stdout",
     "output_type": "stream",
     "text": [
      "[[4, 2, 1, 3], [1, 3, 1]]\n"
     ]
    }
   ],
   "source": [
    "test_seq = tokenizer.texts_to_sequences(test_data)\n",
    "print(test_seq)"
   ]
  },
  {
   "cell_type": "code",
   "execution_count": 20,
   "id": "2f7a6695",
   "metadata": {},
   "outputs": [
    {
     "name": "stdout",
     "output_type": "stream",
     "text": [
      "{'my': 1, 'love': 2, 'dog': 3, 'i': 4, 'you': 5, 'cat': 6, 'do': 7, 'think': 8, 'is': 9, 'amazing': 10}\n"
     ]
    }
   ],
   "source": [
    "test_index = tokenizer.word_index\n",
    "print(test_index)"
   ]
  },
  {
   "cell_type": "markdown",
   "id": "6c449ee4",
   "metadata": {},
   "source": [
    "## 4. Handling the unseen tokens using oov_token"
   ]
  },
  {
   "cell_type": "code",
   "execution_count": 21,
   "id": "9fa24275",
   "metadata": {},
   "outputs": [
    {
     "name": "stdout",
     "output_type": "stream",
     "text": [
      "[[5, 1, 3, 2, 4], [2, 4, 1, 2, 1]]\n"
     ]
    }
   ],
   "source": [
    "from tensorflow.keras.preprocessing.text import Tokenizer \n",
    "sentences = [\n",
    "    'I love my dog',\n",
    "    'i love my cat',\n",
    "    'you love my dog!',\n",
    "    'Do you think my dog is amazing?' \n",
    "]\n",
    "\n",
    "tokenizer = Tokenizer(num_words = 100, oov_token = \"<OOV>\") \n",
    "tokenizer.fit_on_texts(sentences) \n",
    "word_index = tokenizer.word_index \n",
    "sequences = tokenizer.texts_to_sequences(sentences) \n",
    "\n",
    "test_data = [\n",
    "    'i really love my dog',\n",
    "    'my dog loves my manatee' \n",
    "]\n",
    "test_seq = tokenizer.texts_to_sequences(test_data) \n",
    "print(test_seq) "
   ]
  },
  {
   "cell_type": "code",
   "execution_count": 23,
   "id": "a0fb5120",
   "metadata": {},
   "outputs": [
    {
     "name": "stdout",
     "output_type": "stream",
     "text": [
      "{'<OOV>': 1, 'my': 2, 'love': 3, 'dog': 4, 'i': 5, 'you': 6, 'cat': 7, 'do': 8, 'think': 9, 'is': 10, 'amazing': 11}\n"
     ]
    }
   ],
   "source": [
    "print(tokenizer.word_index)"
   ]
  },
  {
   "cell_type": "markdown",
   "id": "368a1505",
   "metadata": {},
   "source": [
    "## 5. Sequence padding "
   ]
  },
  {
   "cell_type": "code",
   "execution_count": 24,
   "id": "6201bff4",
   "metadata": {},
   "outputs": [],
   "source": [
    "from tensorflow.keras.preprocessing.text import Tokenizer \n",
    "from tensorflow.keras.preprocessing.sequence import pad_sequences"
   ]
  },
  {
   "cell_type": "code",
   "execution_count": 25,
   "id": "fad525c3",
   "metadata": {},
   "outputs": [],
   "source": [
    "sentences = [\n",
    "    'I love my dog',\n",
    "    'I love my cat',\n",
    "    'You love my dog!',\n",
    "    'Do you think my dog is amazing?'\n",
    "]"
   ]
  },
  {
   "cell_type": "code",
   "execution_count": 28,
   "id": "acbe4468",
   "metadata": {},
   "outputs": [
    {
     "name": "stdout",
     "output_type": "stream",
     "text": [
      "{'<OOV>': 1, 'my': 2, 'love': 3, 'dog': 4, 'i': 5, 'you': 6, 'cat': 7, 'do': 8, 'think': 9, 'is': 10, 'amazing': 11} \n",
      "\n",
      "[[5, 3, 2, 4], [5, 3, 2, 7], [6, 3, 2, 4], [8, 6, 9, 2, 4, 10, 11]] \n",
      "\n",
      "[[ 0  0  0  5  3  2  4]\n",
      " [ 0  0  0  5  3  2  7]\n",
      " [ 0  0  0  6  3  2  4]\n",
      " [ 8  6  9  2  4 10 11]]\n"
     ]
    }
   ],
   "source": [
    "tokenizer = Tokenizer(num_words = 100, oov_token = '<OOV>') \n",
    "tokenizer.fit_on_texts(sentences) \n",
    "word_index = tokenizer.word_index\n",
    "\n",
    "sequences = tokenizer.texts_to_sequences(sentences) \n",
    "padded = pad_sequences(sequences) \n",
    "\n",
    "print(word_index, '\\n') \n",
    "print(sequences, '\\n')\n",
    "print(padded)"
   ]
  },
  {
   "cell_type": "code",
   "execution_count": 29,
   "id": "9937b69d",
   "metadata": {},
   "outputs": [],
   "source": [
    "# padded = pad_sequences(sequences, \n",
    "#                padding = 'post',maxlen = 5,truncating = 'post')"
   ]
  },
  {
   "cell_type": "code",
   "execution_count": null,
   "id": "085ef4eb",
   "metadata": {},
   "outputs": [],
   "source": []
  }
 ],
 "metadata": {
  "kernelspec": {
   "display_name": "Python 3",
   "language": "python",
   "name": "python3"
  },
  "language_info": {
   "codemirror_mode": {
    "name": "ipython",
    "version": 3
   },
   "file_extension": ".py",
   "mimetype": "text/x-python",
   "name": "python",
   "nbconvert_exporter": "python",
   "pygments_lexer": "ipython3",
   "version": "3.8.8"
  }
 },
 "nbformat": 4,
 "nbformat_minor": 5
}
