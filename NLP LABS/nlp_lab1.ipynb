{
 "cells": [
  {
   "cell_type": "markdown",
   "id": "116a8e54",
   "metadata": {},
   "source": [
    "# NLP_Lab1 - Aug 25 2021\n",
    "\n",
    "### Author :Thomaskutty Reji\n",
    "### RollNo: 20122011"
   ]
  },
  {
   "cell_type": "markdown",
   "id": "d1461ad6",
   "metadata": {},
   "source": [
    "## Tokenize"
   ]
  },
  {
   "cell_type": "code",
   "execution_count": 29,
   "id": "eb868cfd",
   "metadata": {},
   "outputs": [],
   "source": [
    "import nltk \n",
    "import nltk.corpus\n",
    "from nltk.tokenize import word_tokenize  # tokenizing\n",
    "\n",
    "text =\"\"\"\n",
    "In Brazil they drive on the right-hand side of the road.\n",
    "Brazil has a large coastline of the eastern side of south america.\n",
    "\"\"\""
   ]
  },
  {
   "cell_type": "code",
   "execution_count": 30,
   "id": "a43f6235",
   "metadata": {},
   "outputs": [
    {
     "name": "stdout",
     "output_type": "stream",
     "text": [
      "['In', 'Brazil', 'they', 'drive', 'on', 'the', 'right-hand', 'side', 'of', 'the', 'road', '.', 'Brazil', 'has', 'a', 'large', 'coastline', 'of', 'the', 'eastern', 'side', 'of', 'south', 'america', '.']\n"
     ]
    }
   ],
   "source": [
    "token = word_tokenize(text)\n",
    "print(token)"
   ]
  },
  {
   "cell_type": "markdown",
   "id": "f61186bc",
   "metadata": {},
   "source": [
    "### Finding the frequency distinct in the tokens"
   ]
  },
  {
   "cell_type": "code",
   "execution_count": 31,
   "id": "f5104937",
   "metadata": {},
   "outputs": [
    {
     "data": {
      "text/plain": [
       "FreqDist({'the': 3, 'of': 3, 'Brazil': 2, 'side': 2, '.': 2, 'In': 1, 'they': 1, 'drive': 1, 'on': 1, 'right-hand': 1, ...})"
      ]
     },
     "execution_count": 31,
     "metadata": {},
     "output_type": "execute_result"
    }
   ],
   "source": [
    "from nltk.probability import FreqDist\n",
    "fdist = FreqDist(token)\n",
    "fdist"
   ]
  },
  {
   "cell_type": "markdown",
   "id": "7c0b3c21",
   "metadata": {},
   "source": [
    "## Finding the frequency of top 10 words"
   ]
  },
  {
   "cell_type": "code",
   "execution_count": 32,
   "id": "731ccb78",
   "metadata": {},
   "outputs": [
    {
     "name": "stdout",
     "output_type": "stream",
     "text": [
      "[('the', 3), ('of', 3), ('Brazil', 2), ('side', 2), ('.', 2), ('In', 1), ('they', 1), ('drive', 1), ('on', 1), ('right-hand', 1)]\n"
     ]
    }
   ],
   "source": [
    "top_10 = fdist.most_common(10)\n",
    "print(top_10)"
   ]
  },
  {
   "cell_type": "markdown",
   "id": "c0417403",
   "metadata": {},
   "source": [
    "## Stemming "
   ]
  },
  {
   "cell_type": "code",
   "execution_count": 33,
   "id": "a7c9358c",
   "metadata": {},
   "outputs": [
    {
     "data": {
      "text/plain": [
       "'learn'"
      ]
     },
     "execution_count": 33,
     "metadata": {},
     "output_type": "execute_result"
    }
   ],
   "source": [
    "from nltk.stem import PorterStemmer\n",
    "stemmer = PorterStemmer()\n",
    "stemmer.stem('learning')"
   ]
  },
  {
   "cell_type": "code",
   "execution_count": 34,
   "id": "6e34013b",
   "metadata": {},
   "outputs": [
    {
     "name": "stdout",
     "output_type": "stream",
     "text": [
      "waited:wait\n",
      "waiting:wait\n",
      "waits:wait\n",
      "waiser:waiser\n"
     ]
    }
   ],
   "source": [
    "# Checking for the list of words\n",
    "stm = [\"waited\", \"waiting\", \"waits\", 'waiser']\n",
    "for word in stm :\n",
    " print(word+ \":\" +stemmer.stem(word))"
   ]
  },
  {
   "cell_type": "code",
   "execution_count": 35,
   "id": "431a0bf2",
   "metadata": {},
   "outputs": [
    {
     "name": "stdout",
     "output_type": "stream",
     "text": [
      "given: giv\n",
      "giving: giv\n",
      "gave: gav\n"
     ]
    }
   ],
   "source": [
    "from nltk.stem import LancasterStemmer\n",
    "stemmer =  LancasterStemmer() \n",
    "words = ['given', 'giving', 'gave']\n",
    "for word in words:\n",
    "    print(word+ ': ' + stemmer.stem(word))"
   ]
  },
  {
   "cell_type": "markdown",
   "id": "90a5c668",
   "metadata": {},
   "source": [
    "## Lemmatization \n",
    "\n",
    "Lemmatization\n",
    "For example, lemmatization would correctly identify the base form of ‘caring’ to ‘care’, whereas, stemming\n",
    "would cutoff the ‘ing’ part and convert it to a car."
   ]
  },
  {
   "cell_type": "code",
   "execution_count": 36,
   "id": "89cc736c",
   "metadata": {},
   "outputs": [
    {
     "name": "stdout",
     "output_type": "stream",
     "text": [
      "rocks : rock\n",
      "corpora : corpus\n"
     ]
    }
   ],
   "source": [
    "from nltk.stem import WordNetLemmatizer\n",
    "lemmatizer = WordNetLemmatizer() \n",
    "print(\"rocks :\", lemmatizer.lemmatize(\"rocks\")) \n",
    "print(\"corpora :\", lemmatizer.lemmatize(\"corpora\"))"
   ]
  },
  {
   "cell_type": "markdown",
   "id": "4d9eec39",
   "metadata": {},
   "source": [
    "## Stopwords\n",
    "Stop Words “Stop words” are the most common words in a language like “the”, “a”, “at”, “for”, “above”, “on”, “is”,\n",
    "“all”. These words do not provide any meaning and are usually removed from texts. We can remove these stop\n",
    "words using nltk library"
   ]
  },
  {
   "cell_type": "code",
   "execution_count": 37,
   "id": "a2236aa7",
   "metadata": {},
   "outputs": [
    {
     "name": "stdout",
     "output_type": "stream",
     "text": [
      "['cristiano', 'ronaldo', 'was', 'born', 'on', 'february', '5', ',', '1985', ',', 'in', 'funchal', ',', 'madeira', ',', 'portugal', '.'] \n",
      "\n",
      "['cristiano', 'ronaldo', 'born', 'february', '5', ',', '1985', ',', 'funchal', ',', 'madeira', ',', 'portugal', '.']\n"
     ]
    }
   ],
   "source": [
    "from nltk.corpus import stopwords\n",
    "a = set(stopwords.words('english'))\n",
    "text = \"Cristiano Ronaldo was born on February 5, 1985, in Funchal, Madeira, Portugal.\"\n",
    "text1 = word_tokenize(text.lower())\n",
    "print(text1, '\\n')\n",
    "stopwords = [x for x in text1 if x not in a]\n",
    "print(stopwords)"
   ]
  },
  {
   "cell_type": "markdown",
   "id": "f119c649",
   "metadata": {},
   "source": [
    "## POS Tagging \n",
    "Part of speech tagging (POS)\n",
    "Part-of-speech tagging is used to assign parts of speech to each word of a given text (such as nouns, verbs,\n",
    "pronouns, adverbs, conjunction, adjectives, interjection) based on its definition and its context. There are many\n",
    "tools available for POS taggers and some of the widely used taggers are NLTK, Spacy, TextBlob, Standford\n",
    "CoreNLP, etc."
   ]
  },
  {
   "cell_type": "code",
   "execution_count": 38,
   "id": "49725a12",
   "metadata": {},
   "outputs": [
    {
     "name": "stdout",
     "output_type": "stream",
     "text": [
      "[('vote', 'NN')]\n",
      "[('to', 'TO')]\n",
      "[('choose', 'NN')]\n",
      "[('a', 'DT')]\n",
      "[('particular', 'JJ')]\n",
      "[('man', 'NN')]\n",
      "[('or', 'CC')]\n",
      "[('a', 'DT')]\n",
      "[('group', 'NN')]\n",
      "[('(', '(')]\n",
      "[('party', 'NN')]\n",
      "[(')', ')')]\n",
      "[('to', 'TO')]\n",
      "[('represent', 'NN')]\n",
      "[('them', 'PRP')]\n",
      "[('in', 'IN')]\n",
      "[('parliament', 'NN')]\n"
     ]
    }
   ],
   "source": [
    "text = \"vote to choose a particular man or a group (party) to represent them in parliament\"\n",
    "#Tokenize the text\n",
    "tokens = word_tokenize(text)\n",
    "for token in tokens:\n",
    "    print(nltk.pos_tag([token]))"
   ]
  },
  {
   "cell_type": "code",
   "execution_count": 39,
   "id": "5516f34d",
   "metadata": {},
   "outputs": [],
   "source": [
    "    # nltk.help.upenn_tagset()  ---> tag help "
   ]
  },
  {
   "cell_type": "markdown",
   "id": "9c63482c",
   "metadata": {},
   "source": [
    "# Names entity recognition\n",
    "Named entity recognition It is the process of detecting the named entities such as the person name, the location name, the company name, the quantities and the monetary value."
   ]
  },
  {
   "cell_type": "code",
   "execution_count": 40,
   "id": "118764a8",
   "metadata": {},
   "outputs": [
    {
     "data": {
      "image/png": "[encoded data removed]",
      "text/plain": [
       "Tree('S', [Tree('PERSON', [('Google', 'NNP')]), ('’', 'NNP'), ('s', 'VBD'), Tree('ORGANIZATION', [('CEO', 'NNP'), ('Sundar', 'NNP'), ('Pichai', 'NNP')]), ('introduced', 'VBD'), ('the', 'DT'), ('new', 'JJ'), ('Pixel', 'NNP'), ('at', 'IN'), Tree('ORGANIZATION', [('Minnesota', 'NNP'), ('Roi', 'NNP'), ('Centre', 'NNP')]), ('Event', 'NNP')])"
      ]
     },
     "execution_count": 40,
     "metadata": {},
     "output_type": "execute_result"
    }
   ],
   "source": [
    "text = \"Google’s CEO Sundar Pichai introduced the new Pixel at Minnesota Roi Centre Event\"\n",
    "#importing chunk library from nltk\n",
    "from nltk import ne_chunk# tokenize and POS Tagging before doing chunk\n",
    "token = word_tokenize(text)\n",
    "tags = nltk.pos_tag(token)\n",
    "chunk = ne_chunk(tags)\n",
    "chunk"
   ]
  },
  {
   "cell_type": "markdown",
   "id": "bab7b910",
   "metadata": {},
   "source": [
    "## Chunking\n",
    "Chunking means picking up individual pieces of information and grouping them into bigger pieces. In the context of NLP and text mining, chunking means a grouping of words or tokens into chunks."
   ]
  },
  {
   "cell_type": "code",
   "execution_count": 41,
   "id": "bd49ab58",
   "metadata": {},
   "outputs": [
    {
     "name": "stdout",
     "output_type": "stream",
     "text": [
      "(S We/PRP saw/VBD (NP the/DT yellow/JJ dog/NN))\n"
     ]
    }
   ],
   "source": [
    "text = \"We saw the yellow dog\"\n",
    "token = word_tokenize(text)\n",
    "tags = nltk.pos_tag(token)\n",
    "reg = \"NP: {<DT>?<JJ>*<NN>}\"\n",
    "a = nltk.RegexpParser(reg)\n",
    "result = a.parse(tags)\n",
    "print(result)"
   ]
  },
  {
   "cell_type": "code",
   "execution_count": null,
   "id": "ef168e1b",
   "metadata": {},
   "outputs": [],
   "source": []
  },
  {
   "cell_type": "code",
   "execution_count": null,
   "id": "85532559",
   "metadata": {},
   "outputs": [],
   "source": []
  },
  {
   "cell_type": "code",
   "execution_count": null,
   "id": "7bd9367a",
   "metadata": {},
   "outputs": [],
   "source": []
  }
 ],
 "metadata": {
  "kernelspec": {
   "display_name": "Python 3",
   "language": "python",
   "name": "python3"
  },
  "language_info": {
   "codemirror_mode": {
    "name": "ipython",
    "version": 3
   },
   "file_extension": ".py",
   "mimetype": "text/x-python",
   "name": "python",
   "nbconvert_exporter": "python",
   "pygments_lexer": "ipython3",
   "version": "3.8.8"
  }
 },
 "nbformat": 4,
 "nbformat_minor": 5
}
