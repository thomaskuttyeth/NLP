{
 "cells": [
  {
   "cell_type": "markdown",
   "id": "a3578e7b",
   "metadata": {},
   "source": [
    "## Lab 2 \n",
    "## Thomaskutty Reji \n",
    "## 1 Sep 2021 "
   ]
  },
  {
   "cell_type": "code",
   "execution_count": 1,
   "id": "331ff7e8",
   "metadata": {},
   "outputs": [],
   "source": [
    "import nltk \n",
    "import os \n",
    "import nltk.corpus"
   ]
  },
  {
   "cell_type": "markdown",
   "id": "c52f6128",
   "metadata": {},
   "source": [
    "## getting directory "
   ]
  },
  {
   "cell_type": "code",
   "execution_count": 2,
   "id": "dbdeb873",
   "metadata": {},
   "outputs": [
    {
     "name": "stdout",
     "output_type": "stream",
     "text": [
      "['abc', 'abc.zip', 'alpino', 'alpino.zip', 'biocreative_ppi', 'biocreative_ppi.zip', 'brown', 'brown.zip', 'brown_tei', 'brown_tei.zip', 'cess_cat', 'cess_cat.zip', 'cess_esp', 'cess_esp.zip', 'chat80', 'chat80.zip', 'city_database', 'city_database.zip', 'cmudict', 'cmudict.zip', 'comparative_sentences', 'comparative_sentences.zip', 'comtrans.zip', 'conll2000', 'conll2000.zip', 'conll2002', 'conll2002.zip', 'conll2007.zip', 'crubadan', 'crubadan.zip', 'dependency_treebank', 'dependency_treebank.zip', 'dolch', 'dolch.zip', 'europarl_raw', 'europarl_raw.zip', 'floresta', 'floresta.zip', 'framenet_v15', 'framenet_v15.zip', 'framenet_v17', 'framenet_v17.zip', 'gazetteers', 'gazetteers.zip', 'genesis', 'genesis.zip', 'gutenberg', 'gutenberg.zip', 'ieer', 'ieer.zip', 'inaugural', 'inaugural.zip', 'indian', 'indian.zip', 'jeita.zip', 'kimmo', 'kimmo.zip', 'knbc.zip', 'lin_thesaurus', 'lin_thesaurus.zip', 'machado.zip', 'mac_morpho', 'mac_morpho.zip', 'masc_tagged.zip', 'movie_reviews', 'movie_reviews.zip', 'mte_teip5', 'mte_teip5.zip', 'names', 'names.zip', 'nombank.1.0.zip', 'nonbreaking_prefixes', 'nonbreaking_prefixes.zip', 'nps_chat', 'nps_chat.zip', 'omw', 'omw.zip', 'opinion_lexicon', 'opinion_lexicon.zip', 'panlex_swadesh.zip', 'paradigms', 'paradigms.zip', 'pil', 'pil.zip', 'pl196x', 'pl196x.zip', 'ppattach', 'ppattach.zip', 'problem_reports', 'problem_reports.zip', 'product_reviews_1', 'product_reviews_1.zip', 'product_reviews_2', 'product_reviews_2.zip', 'propbank.zip', 'pros_cons', 'pros_cons.zip', 'ptb', 'ptb.zip', 'qc', 'qc.zip', 'reuters.zip', 'rte', 'rte.zip', 'semcor.zip', 'senseval', 'senseval.zip', 'sentence_polarity', 'sentence_polarity.zip', 'sentiwordnet', 'sentiwordnet.zip', 'shakespeare', 'shakespeare.zip', 'sinica_treebank', 'sinica_treebank.zip', 'smultron', 'smultron.zip', 'state_union', 'state_union.zip', 'stopwords', 'stopwords.zip', 'subjectivity', 'subjectivity.zip', 'swadesh', 'swadesh.zip', 'switchboard', 'switchboard.zip', 'timit', 'timit.zip', 'toolbox', 'toolbox.zip', 'treebank', 'treebank.zip', 'twitter_samples', 'twitter_samples.zip', 'udhr', 'udhr.zip', 'udhr2', 'udhr2.zip', 'unicode_samples', 'unicode_samples.zip', 'universal_treebanks_v20.zip', 'verbnet', 'verbnet.zip', 'verbnet3', 'verbnet3.zip', 'webtext', 'webtext.zip', 'wordnet', 'wordnet.zip', 'wordnet_ic', 'wordnet_ic.zip', 'words', 'words.zip', 'ycoe', 'ycoe.zip']\n"
     ]
    }
   ],
   "source": [
    "print(os.listdir(nltk.data.find('corpora')))"
   ]
  },
  {
   "cell_type": "code",
   "execution_count": 3,
   "id": "2f4aea86",
   "metadata": {},
   "outputs": [
    {
     "data": {
      "text/plain": [
       "['austen-emma.txt',\n",
       " 'austen-persuasion.txt',\n",
       " 'austen-sense.txt',\n",
       " 'bible-kjv.txt',\n",
       " 'blake-poems.txt',\n",
       " 'bryant-stories.txt',\n",
       " 'burgess-busterbrown.txt',\n",
       " 'carroll-alice.txt',\n",
       " 'chesterton-ball.txt',\n",
       " 'chesterton-brown.txt',\n",
       " 'chesterton-thursday.txt',\n",
       " 'edgeworth-parents.txt',\n",
       " 'melville-moby_dick.txt',\n",
       " 'milton-paradise.txt',\n",
       " 'shakespeare-caesar.txt',\n",
       " 'shakespeare-hamlet.txt',\n",
       " 'shakespeare-macbeth.txt',\n",
       " 'whitman-leaves.txt']"
      ]
     },
     "execution_count": 3,
     "metadata": {},
     "output_type": "execute_result"
    }
   ],
   "source": [
    "nltk.corpus.gutenberg.fileids()"
   ]
  },
  {
   "cell_type": "code",
   "execution_count": 4,
   "id": "6259fdbd",
   "metadata": {},
   "outputs": [],
   "source": [
    "hamlet = nltk.corpus.gutenberg.words('shakespeare-hamlet.txt')"
   ]
  },
  {
   "cell_type": "code",
   "execution_count": 5,
   "id": "f16d5e24",
   "metadata": {},
   "outputs": [
    {
     "data": {
      "text/plain": [
       "['[',\n",
       " 'The',\n",
       " 'Tragedie',\n",
       " 'of',\n",
       " 'Hamlet',\n",
       " 'by',\n",
       " 'William',\n",
       " 'Shakespeare',\n",
       " '1599',\n",
       " ']']"
      ]
     },
     "execution_count": 5,
     "metadata": {},
     "output_type": "execute_result"
    }
   ],
   "source": [
    "hamlet[0:10]"
   ]
  },
  {
   "cell_type": "markdown",
   "id": "a5d0896e",
   "metadata": {},
   "source": [
    "### Taking the first 500 words"
   ]
  },
  {
   "cell_type": "code",
   "execution_count": 6,
   "id": "f0eedf95",
   "metadata": {},
   "outputs": [
    {
     "name": "stdout",
     "output_type": "stream",
     "text": [
      "[ The Tragedie of Hamlet by William Shakespeare 1599 ] Actus Primus . Scoena Prima . Enter Barnardo and Francisco two Centinels . Barnardo . Who ' s there ? Fran . Nay answer me : Stand & vnfold your selfe Bar . Long liue the King Fran . Barnardo ? Bar . He Fran . You come most carefully vpon your houre Bar . ' Tis now strook twelue , get thee to bed Francisco Fran . For this releefe much thankes : ' Tis bitter cold , And I am sicke at heart Barn . Haue you had quiet Guard ? Fran . Not a Mouse stirring Barn . Well , goodnight . If you do meet Horatio and Marcellus , the Riuals of my Watch , bid them make hast . Enter Horatio and Marcellus . Fran . I thinke I heare them . Stand : who ' s there ? Hor . Friends to this ground Mar . And Leige - men to the Dane Fran . Giue you good night Mar . O farwel honest Soldier , who hath relieu ' d you ? Fra . Barnardo ha ' s my place : giue you goodnight . Exit Fran . Mar . Holla Barnardo Bar . Say , what is Horatio there ? Hor . A peece of him Bar . Welcome Horatio , welcome good Marcellus Mar . What , ha ' s this thing appear ' d againe to night Bar . I haue seene nothing Mar . Horatio saies , ' tis but our Fantasie , And will not let beleefe take hold of him Touching this dreaded sight , twice seene of vs , Therefore I haue intreated him along With vs , to watch the minutes of this Night , That if againe this Apparition come , He may approue our eyes , and speake to it Hor . Tush , tush , ' twill not appeare Bar . Sit downe a - while , And let vs once againe assaile your eares , That are so fortified against our Story , What we two Nights haue seene Hor . Well , sit we downe , And let vs heare Barnardo speake of this Barn . Last night of all , When yond same Starre that ' s Westward from the Pole Had made his course t ' illume that part of Heauen Where now it burnes , Marcellus and my selfe , The Bell then beating one Mar . Peace , breake thee of : Enter the Ghost . Looke where it comes againe Barn . In the same figure , like the King that ' s dead Mar . Thou art a Scholler ; speake to it Horatio Barn . Lookes it not like the King ? Marke it Horatio Hora . Most like : It harrowes me with fear & wonder Barn . It would be spoke too Mar . Question it Horatio Hor . What art "
     ]
    }
   ],
   "source": [
    "for word in hamlet[:500]:\n",
    "    print(word, sep='', end=' ')"
   ]
  },
  {
   "cell_type": "markdown",
   "id": "36ff35d7",
   "metadata": {},
   "source": [
    "## Random Text"
   ]
  },
  {
   "cell_type": "code",
   "execution_count": 7,
   "id": "90a6d324",
   "metadata": {},
   "outputs": [],
   "source": [
    "ai=\"\"\"According to the father of Artificial Intelligence, John McCarthy, it is The science and engineering of making intelligent machines, especially intelligent computer programs.\n",
    "Artificial Intelligence is a way of making a computer, a computer-controlled robot, or a software think intelligently, in the similar manner the intelligent humans think.\n",
    "AI is accomplished by studying how human brain thinks, and how humans learn, decide, and work while trying to solve a problem, and then using the outcomes of this study as a basis of developing intelligent software and systems.\n",
    "Philosophy of AI\n",
    "While exploiting the power of the computer systems, the curiosity of human, lead him to wonder, Can a machine think and behave like humans do?”\n",
    "Thus, the development of AI started with the intention of creating similar intelligence in machines that we find and regard high in humans.\n",
    "Goals of AI To Create Expert Systems − The systems which exhibit intelligent behavior,learn, demonstrate, explain, and advice its users.\n",
    "To Implement Human Intelligence in Machines − Creating systems that understand, think, learn, and behave like humans.\n",
    "What Contributes to AI?\n",
    "Artificial intelligence is a science and technology based on disciplines such as Computer Science, Biology, Psychology, Linguistics, Mathematics, and Engineering. A major thrust of AI is in the development of computer functions associated with human intelligence, such as reasoning, learning, and problem solving.\n",
    "Out of the following areas, one or multiple areas can contribute to build an intelligent system. \"\"\"\n"
   ]
  },
  {
   "cell_type": "code",
   "execution_count": 8,
   "id": "43ce3024",
   "metadata": {},
   "outputs": [
    {
     "data": {
      "text/plain": [
       "'According to the father of Artificial Intelligence, John McCarthy, it is The science and engineering of making intelligent machines, especially intelligent computer programs.\\nArtificial Intelligence is a way of making a computer, a computer-controlled robot, or a software think intelligently, in the similar manner the intelligent humans think.\\nAI is accomplished by studying how human brain thinks, and how humans learn, decide, and work while trying to solve a problem, and then using the outcomes of this study as a basis of developing intelligent software and systems.\\nPhilosophy of AI\\nWhile exploiting the power of the computer systems, the curiosity of human, lead him to wonder, Can a machine think and behave like humans do?”\\nThus, the development of AI started with the intention of creating similar intelligence in machines that we find and regard high in humans.\\nGoals of AI To Create Expert Systems − The systems which exhibit intelligent behavior,learn, demonstrate, explain, and advice its users.\\nTo Implement Human Intelligence in Machines − Creating systems that understand, think, learn, and behave like humans.\\nWhat Contributes to AI?\\nArtificial intelligence is a science and technology based on disciplines such as Computer Science, Biology, Psychology, Linguistics, Mathematics, and Engineering. A major thrust of AI is in the development of computer functions associated with human intelligence, such as reasoning, learning, and problem solving.\\nOut of the following areas, one or multiple areas can contribute to build an intelligent system. '"
      ]
     },
     "execution_count": 8,
     "metadata": {},
     "output_type": "execute_result"
    }
   ],
   "source": [
    "ai"
   ]
  },
  {
   "cell_type": "code",
   "execution_count": 9,
   "id": "a1bb44ef",
   "metadata": {},
   "outputs": [
    {
     "data": {
      "text/plain": [
       "str"
      ]
     },
     "execution_count": 9,
     "metadata": {},
     "output_type": "execute_result"
    }
   ],
   "source": [
    "type(ai)"
   ]
  },
  {
   "cell_type": "markdown",
   "id": "7e1edbea",
   "metadata": {},
   "source": [
    "###  Tokenize"
   ]
  },
  {
   "cell_type": "code",
   "execution_count": 10,
   "id": "f79a1102",
   "metadata": {},
   "outputs": [
    {
     "name": "stdout",
     "output_type": "stream",
     "text": [
      "['According', 'to', 'the', 'father', 'of', 'Artificial', 'Intelligence', ',', 'John', 'McCarthy', ',', 'it', 'is', 'The', 'science', 'and', 'engineering', 'of', 'making', 'intelligent', 'machines', ',', 'especially', 'intelligent', 'computer', 'programs', '.', 'Artificial', 'Intelligence', 'is', 'a', 'way', 'of', 'making', 'a', 'computer', ',', 'a', 'computer-controlled', 'robot', ',', 'or', 'a', 'software', 'think', 'intelligently', ',', 'in', 'the', 'similar', 'manner', 'the', 'intelligent', 'humans', 'think', '.', 'AI', 'is', 'accomplished', 'by', 'studying', 'how', 'human', 'brain', 'thinks', ',', 'and', 'how', 'humans', 'learn', ',', 'decide', ',', 'and', 'work', 'while', 'trying', 'to', 'solve', 'a', 'problem', ',', 'and', 'then', 'using', 'the', 'outcomes', 'of', 'this', 'study', 'as', 'a', 'basis', 'of', 'developing', 'intelligent', 'software', 'and', 'systems', '.', 'Philosophy', 'of', 'AI', 'While', 'exploiting', 'the', 'power', 'of', 'the', 'computer', 'systems', ',', 'the', 'curiosity', 'of', 'human', ',', 'lead', 'him', 'to', 'wonder', ',', 'Can', 'a', 'machine', 'think', 'and', 'behave', 'like', 'humans', 'do', '?', '”', 'Thus', ',', 'the', 'development', 'of', 'AI', 'started', 'with', 'the', 'intention', 'of', 'creating', 'similar', 'intelligence', 'in', 'machines', 'that', 'we', 'find', 'and', 'regard', 'high', 'in', 'humans', '.', 'Goals', 'of', 'AI', 'To', 'Create', 'Expert', 'Systems', '−', 'The', 'systems', 'which', 'exhibit', 'intelligent', 'behavior', ',', 'learn', ',', 'demonstrate', ',', 'explain', ',', 'and', 'advice', 'its', 'users', '.', 'To', 'Implement', 'Human', 'Intelligence', 'in', 'Machines', '−', 'Creating', 'systems', 'that', 'understand', ',', 'think', ',', 'learn', ',', 'and', 'behave', 'like', 'humans', '.', 'What', 'Contributes', 'to', 'AI', '?', 'Artificial', 'intelligence', 'is', 'a', 'science', 'and', 'technology', 'based', 'on', 'disciplines', 'such', 'as', 'Computer', 'Science', ',', 'Biology', ',', 'Psychology', ',', 'Linguistics', ',', 'Mathematics', ',', 'and', 'Engineering', '.', 'A', 'major', 'thrust', 'of', 'AI', 'is', 'in', 'the', 'development', 'of', 'computer', 'functions', 'associated', 'with', 'human', 'intelligence', ',', 'such', 'as', 'reasoning', ',', 'learning', ',', 'and', 'problem', 'solving', '.', 'Out', 'of', 'the', 'following', 'areas', ',', 'one', 'or', 'multiple', 'areas', 'can', 'contribute', 'to', 'build', 'an', 'intelligent', 'system', '.']\n"
     ]
    }
   ],
   "source": [
    "from nltk.tokenize import word_tokenize \n",
    "ai_tokens = word_tokenize(ai) \n",
    "print(ai_tokens)"
   ]
  },
  {
   "cell_type": "code",
   "execution_count": 11,
   "id": "24d66da7",
   "metadata": {},
   "outputs": [
    {
     "data": {
      "text/plain": [
       "281"
      ]
     },
     "execution_count": 11,
     "metadata": {},
     "output_type": "execute_result"
    }
   ],
   "source": [
    "len(ai_tokens)"
   ]
  },
  {
   "cell_type": "markdown",
   "id": "4079b81f",
   "metadata": {},
   "source": [
    "## frequency "
   ]
  },
  {
   "cell_type": "code",
   "execution_count": 12,
   "id": "0b68fa9a",
   "metadata": {},
   "outputs": [],
   "source": [
    "from nltk.probability import FreqDist\n",
    "fdist = FreqDist()"
   ]
  },
  {
   "cell_type": "code",
   "execution_count": 13,
   "id": "2da6d567",
   "metadata": {},
   "outputs": [
    {
     "data": {
      "text/plain": [
       "FreqDist({',': 30, 'of': 14, 'the': 13, 'and': 12, '.': 9, 'a': 9, 'to': 7, 'intelligence': 6, 'intelligent': 6, 'ai': 6, ...})"
      ]
     },
     "execution_count": 13,
     "metadata": {},
     "output_type": "execute_result"
    }
   ],
   "source": [
    "for word in ai_tokens:\n",
    "    fdist[word.lower()]+=1\n",
    "fdist"
   ]
  },
  {
   "cell_type": "code",
   "execution_count": 14,
   "id": "3ba60533",
   "metadata": {},
   "outputs": [
    {
     "data": {
      "text/plain": [
       "dict_keys(['according', 'to', 'the', 'father', 'of', 'artificial', 'intelligence', ',', 'john', 'mccarthy', 'it', 'is', 'science', 'and', 'engineering', 'making', 'intelligent', 'machines', 'especially', 'computer', 'programs', '.', 'a', 'way', 'computer-controlled', 'robot', 'or', 'software', 'think', 'intelligently', 'in', 'similar', 'manner', 'humans', 'ai', 'accomplished', 'by', 'studying', 'how', 'human', 'brain', 'thinks', 'learn', 'decide', 'work', 'while', 'trying', 'solve', 'problem', 'then', 'using', 'outcomes', 'this', 'study', 'as', 'basis', 'developing', 'systems', 'philosophy', 'exploiting', 'power', 'curiosity', 'lead', 'him', 'wonder', 'can', 'machine', 'behave', 'like', 'do', '?', '”', 'thus', 'development', 'started', 'with', 'intention', 'creating', 'that', 'we', 'find', 'regard', 'high', 'goals', 'create', 'expert', '−', 'which', 'exhibit', 'behavior', 'demonstrate', 'explain', 'advice', 'its', 'users', 'implement', 'understand', 'what', 'contributes', 'technology', 'based', 'on', 'disciplines', 'such', 'biology', 'psychology', 'linguistics', 'mathematics', 'major', 'thrust', 'functions', 'associated', 'reasoning', 'learning', 'solving', 'out', 'following', 'areas', 'one', 'multiple', 'contribute', 'build', 'an', 'system'])"
      ]
     },
     "execution_count": 14,
     "metadata": {},
     "output_type": "execute_result"
    }
   ],
   "source": [
    "dict(fdist).keys()"
   ]
  },
  {
   "cell_type": "markdown",
   "id": "506b996b",
   "metadata": {},
   "source": [
    "## Tokenization - Note\n",
    "\n",
    "* Bigrams-Tokens of two consecutive written words knows as Bigram\n",
    "* Trigram-Tokens of three consecutive written words known as Trigram\n",
    "* Ngram- Tokens of any numbers of consecutive written words known as Ngram"
   ]
  },
  {
   "cell_type": "code",
   "execution_count": 15,
   "id": "737adc50",
   "metadata": {},
   "outputs": [],
   "source": [
    "from nltk.util import bigrams, trigrams, ngrams "
   ]
  },
  {
   "cell_type": "markdown",
   "id": "6d5bbf64",
   "metadata": {},
   "source": [
    "## Normal tokenization"
   ]
  },
  {
   "cell_type": "code",
   "execution_count": 16,
   "id": "9af5a533",
   "metadata": {},
   "outputs": [
    {
     "name": "stdout",
     "output_type": "stream",
     "text": [
      "['The', 'best', 'and', 'most', 'beautiful', 'things', 'in', 'the', 'world', 'can', 'not', 'be', 'seen', 'or', 'even', 'touched', '-', 'they', 'must', 'be', 'felt', 'with', 'the', 'heart']\n"
     ]
    }
   ],
   "source": [
    "string = \" The best and most beautiful things in the world cannot be seen or even touched - they must be felt with the heart\"\n",
    "quote_tokens = nltk.word_tokenize(string)\n",
    "print(quote_tokens)  "
   ]
  },
  {
   "cell_type": "markdown",
   "id": "9a4b6dd8",
   "metadata": {},
   "source": [
    "## Bigram"
   ]
  },
  {
   "cell_type": "code",
   "execution_count": 17,
   "id": "9c1c530a",
   "metadata": {},
   "outputs": [
    {
     "data": {
      "text/plain": [
       "[('The', 'best'),\n",
       " ('best', 'and'),\n",
       " ('and', 'most'),\n",
       " ('most', 'beautiful'),\n",
       " ('beautiful', 'things'),\n",
       " ('things', 'in'),\n",
       " ('in', 'the'),\n",
       " ('the', 'world'),\n",
       " ('world', 'can'),\n",
       " ('can', 'not'),\n",
       " ('not', 'be'),\n",
       " ('be', 'seen'),\n",
       " ('seen', 'or'),\n",
       " ('or', 'even'),\n",
       " ('even', 'touched'),\n",
       " ('touched', '-'),\n",
       " ('-', 'they'),\n",
       " ('they', 'must'),\n",
       " ('must', 'be'),\n",
       " ('be', 'felt'),\n",
       " ('felt', 'with'),\n",
       " ('with', 'the'),\n",
       " ('the', 'heart')]"
      ]
     },
     "execution_count": 17,
     "metadata": {},
     "output_type": "execute_result"
    }
   ],
   "source": [
    "quote_bigrams=list(nltk.bigrams(quote_tokens))\n",
    "quote_bigrams "
   ]
  },
  {
   "cell_type": "markdown",
   "id": "7217db35",
   "metadata": {},
   "source": [
    "## Trigram "
   ]
  },
  {
   "cell_type": "code",
   "execution_count": 18,
   "id": "5c41ff74",
   "metadata": {},
   "outputs": [
    {
     "data": {
      "text/plain": [
       "[('The', 'best', 'and'),\n",
       " ('best', 'and', 'most'),\n",
       " ('and', 'most', 'beautiful'),\n",
       " ('most', 'beautiful', 'things'),\n",
       " ('beautiful', 'things', 'in'),\n",
       " ('things', 'in', 'the'),\n",
       " ('in', 'the', 'world'),\n",
       " ('the', 'world', 'can'),\n",
       " ('world', 'can', 'not'),\n",
       " ('can', 'not', 'be'),\n",
       " ('not', 'be', 'seen'),\n",
       " ('be', 'seen', 'or'),\n",
       " ('seen', 'or', 'even'),\n",
       " ('or', 'even', 'touched'),\n",
       " ('even', 'touched', '-'),\n",
       " ('touched', '-', 'they'),\n",
       " ('-', 'they', 'must'),\n",
       " ('they', 'must', 'be'),\n",
       " ('must', 'be', 'felt'),\n",
       " ('be', 'felt', 'with'),\n",
       " ('felt', 'with', 'the'),\n",
       " ('with', 'the', 'heart')]"
      ]
     },
     "execution_count": 18,
     "metadata": {},
     "output_type": "execute_result"
    }
   ],
   "source": [
    "quote_trigram = list(nltk.trigrams(quote_tokens)) \n",
    "quote_trigram"
   ]
  },
  {
   "cell_type": "markdown",
   "id": "52a9010c",
   "metadata": {},
   "source": [
    "## N-grams"
   ]
  },
  {
   "cell_type": "code",
   "execution_count": 19,
   "id": "7f137480",
   "metadata": {},
   "outputs": [
    {
     "data": {
      "text/plain": [
       "[('The', 'best', 'and', 'most'),\n",
       " ('best', 'and', 'most', 'beautiful'),\n",
       " ('and', 'most', 'beautiful', 'things'),\n",
       " ('most', 'beautiful', 'things', 'in'),\n",
       " ('beautiful', 'things', 'in', 'the'),\n",
       " ('things', 'in', 'the', 'world'),\n",
       " ('in', 'the', 'world', 'can'),\n",
       " ('the', 'world', 'can', 'not'),\n",
       " ('world', 'can', 'not', 'be'),\n",
       " ('can', 'not', 'be', 'seen'),\n",
       " ('not', 'be', 'seen', 'or'),\n",
       " ('be', 'seen', 'or', 'even'),\n",
       " ('seen', 'or', 'even', 'touched'),\n",
       " ('or', 'even', 'touched', '-'),\n",
       " ('even', 'touched', '-', 'they'),\n",
       " ('touched', '-', 'they', 'must'),\n",
       " ('-', 'they', 'must', 'be'),\n",
       " ('they', 'must', 'be', 'felt'),\n",
       " ('must', 'be', 'felt', 'with'),\n",
       " ('be', 'felt', 'with', 'the'),\n",
       " ('felt', 'with', 'the', 'heart')]"
      ]
     },
     "execution_count": 19,
     "metadata": {},
     "output_type": "execute_result"
    }
   ],
   "source": [
    "quote_ngrams=list(nltk.ngrams(quote_tokens,4))\n",
    "quote_ngrams  "
   ]
  },
  {
   "cell_type": "markdown",
   "id": "35e8a6d7",
   "metadata": {},
   "source": [
    "## Stemming "
   ]
  },
  {
   "cell_type": "code",
   "execution_count": 20,
   "id": "0dcd102e",
   "metadata": {},
   "outputs": [
    {
     "data": {
      "text/plain": [
       "'have'"
      ]
     },
     "execution_count": 20,
     "metadata": {},
     "output_type": "execute_result"
    }
   ],
   "source": [
    "from nltk.stem import PorterStemmer \n",
    "pst = PorterStemmer() \n",
    "pst.stem('having')"
   ]
  },
  {
   "cell_type": "code",
   "execution_count": 21,
   "id": "1fd1e0bc",
   "metadata": {},
   "outputs": [
    {
     "name": "stdout",
     "output_type": "stream",
     "text": [
      "give:give\n",
      "giving:give\n",
      "given:given\n",
      "gave:gave\n"
     ]
    }
   ],
   "source": [
    "words_to_stem = ['give','giving','given','gave']\n",
    "for w in words_to_stem:\n",
    "    print(w+':'+pst.stem(w))"
   ]
  },
  {
   "cell_type": "markdown",
   "id": "36f41306",
   "metadata": {},
   "source": [
    "### Lemmatization"
   ]
  },
  {
   "cell_type": "code",
   "execution_count": 22,
   "id": "1b3f2cf5",
   "metadata": {},
   "outputs": [],
   "source": [
    "from nltk.stem import wordnet \n",
    "from nltk.stem import WordNetLemmatizer\n",
    "lemmatizer = WordNetLemmatizer() "
   ]
  },
  {
   "cell_type": "code",
   "execution_count": 23,
   "id": "b43827be",
   "metadata": {},
   "outputs": [
    {
     "name": "stdout",
     "output_type": "stream",
     "text": [
      "give;give\n",
      "giving;giving\n",
      "given;given\n",
      "gave;gave\n"
     ]
    }
   ],
   "source": [
    "for w in words_to_stem:\n",
    "    print(w +';' + lemmatizer.lemmatize(w))"
   ]
  },
  {
   "cell_type": "markdown",
   "id": "dec51a26",
   "metadata": {},
   "source": [
    "## stopwords"
   ]
  },
  {
   "cell_type": "code",
   "execution_count": 24,
   "id": "b04d31e5",
   "metadata": {},
   "outputs": [],
   "source": [
    "from nltk.corpus import stopwords"
   ]
  },
  {
   "cell_type": "code",
   "execution_count": 25,
   "id": "a3ca534b",
   "metadata": {},
   "outputs": [
    {
     "name": "stdout",
     "output_type": "stream",
     "text": [
      "['i', 'me', 'my', 'myself', 'we', 'our', 'ours', 'ourselves', 'you', \"you're\", \"you've\", \"you'll\", \"you'd\", 'your', 'yours', 'yourself', 'yourselves', 'he', 'him', 'his', 'himself', 'she', \"she's\", 'her', 'hers', 'herself', 'it', \"it's\", 'its', 'itself', 'they', 'them', 'their', 'theirs', 'themselves', 'what', 'which', 'who', 'whom', 'this', 'that', \"that'll\", 'these', 'those', 'am', 'is', 'are', 'was', 'were', 'be', 'been', 'being', 'have', 'has', 'had', 'having', 'do', 'does', 'did', 'doing', 'a', 'an', 'the', 'and', 'but', 'if', 'or', 'because', 'as', 'until', 'while', 'of', 'at', 'by', 'for', 'with', 'about', 'against', 'between', 'into', 'through', 'during', 'before', 'after', 'above', 'below', 'to', 'from', 'up', 'down', 'in', 'out', 'on', 'off', 'over', 'under', 'again', 'further', 'then', 'once', 'here', 'there', 'when', 'where', 'why', 'how', 'all', 'any', 'both', 'each', 'few', 'more', 'most', 'other', 'some', 'such', 'no', 'nor', 'not', 'only', 'own', 'same', 'so', 'than', 'too', 'very', 's', 't', 'can', 'will', 'just', 'don', \"don't\", 'should', \"should've\", 'now', 'd', 'll', 'm', 'o', 're', 've', 'y', 'ain', 'aren', \"aren't\", 'couldn', \"couldn't\", 'didn', \"didn't\", 'doesn', \"doesn't\", 'hadn', \"hadn't\", 'hasn', \"hasn't\", 'haven', \"haven't\", 'isn', \"isn't\", 'ma', 'mightn', \"mightn't\", 'mustn', \"mustn't\", 'needn', \"needn't\", 'shan', \"shan't\", 'shouldn', \"shouldn't\", 'wasn', \"wasn't\", 'weren', \"weren't\", 'won', \"won't\", 'wouldn', \"wouldn't\"]\n"
     ]
    }
   ],
   "source": [
    "print(stopwords.words('english'))"
   ]
  },
  {
   "cell_type": "code",
   "execution_count": 26,
   "id": "3e88d0c8",
   "metadata": {},
   "outputs": [
    {
     "data": {
      "text/plain": [
       "179"
      ]
     },
     "execution_count": 26,
     "metadata": {},
     "output_type": "execute_result"
    }
   ],
   "source": [
    "# total number of stop words in english \n",
    "len(stopwords.words('english'))"
   ]
  },
  {
   "cell_type": "code",
   "execution_count": 27,
   "id": "e9798f9f",
   "metadata": {},
   "outputs": [
    {
     "data": {
      "text/plain": [
       "FreqDist({',': 60, 'of': 28, 'the': 26, 'and': 24, '.': 18, 'a': 18, 'to': 14, 'intelligence': 12, 'intelligent': 12, 'ai': 12, ...})"
      ]
     },
     "execution_count": 27,
     "metadata": {},
     "output_type": "execute_result"
    }
   ],
   "source": [
    "for word in ai_tokens:\n",
    "    fdist[word.lower()]+=1\n",
    "fdist"
   ]
  },
  {
   "cell_type": "code",
   "execution_count": 28,
   "id": "05c89fa5",
   "metadata": {},
   "outputs": [
    {
     "name": "stdout",
     "output_type": "stream",
     "text": [
      "[(',', 60), ('of', 28), ('the', 26), ('and', 24), ('.', 18), ('a', 18), ('to', 14), ('intelligence', 12), ('intelligent', 12), ('ai', 12), ('is', 10), ('computer', 10), ('in', 10), ('humans', 10), ('systems', 10), ('think', 8), ('human', 8), ('artificial', 6), ('science', 6), ('machines', 6), ('learn', 6), ('as', 6), ('engineering', 4), ('making', 4), ('or', 4), ('software', 4), ('similar', 4), ('how', 4), ('while', 4), ('problem', 4), ('can', 4), ('behave', 4), ('like', 4), ('?', 4), ('development', 4), ('with', 4), ('creating', 4), ('that', 4), ('−', 4), ('such', 4), ('areas', 4), ('according', 2), ('father', 2), ('john', 2), ('mccarthy', 2), ('it', 2), ('especially', 2), ('programs', 2), ('way', 2), ('computer-controlled', 2), ('robot', 2), ('intelligently', 2), ('manner', 2), ('accomplished', 2), ('by', 2), ('studying', 2), ('brain', 2), ('thinks', 2), ('decide', 2), ('work', 2), ('trying', 2), ('solve', 2), ('then', 2), ('using', 2), ('outcomes', 2), ('this', 2), ('study', 2), ('basis', 2), ('developing', 2), ('philosophy', 2), ('exploiting', 2), ('power', 2), ('curiosity', 2), ('lead', 2), ('him', 2), ('wonder', 2), ('machine', 2), ('do', 2), ('”', 2), ('thus', 2), ('started', 2), ('intention', 2), ('we', 2), ('find', 2), ('regard', 2), ('high', 2), ('goals', 2), ('create', 2), ('expert', 2), ('which', 2), ('exhibit', 2), ('behavior', 2), ('demonstrate', 2), ('explain', 2), ('advice', 2), ('its', 2), ('users', 2), ('implement', 2), ('understand', 2), ('what', 2), ('contributes', 2), ('technology', 2), ('based', 2), ('on', 2), ('disciplines', 2), ('biology', 2), ('psychology', 2), ('linguistics', 2), ('mathematics', 2), ('major', 2), ('thrust', 2), ('functions', 2), ('associated', 2), ('reasoning', 2), ('learning', 2), ('solving', 2), ('out', 2), ('following', 2), ('one', 2), ('multiple', 2), ('contribute', 2), ('build', 2), ('an', 2), ('system', 2)]\n"
     ]
    }
   ],
   "source": [
    "print(fdist.most_common())"
   ]
  },
  {
   "cell_type": "markdown",
   "id": "b0976ec1",
   "metadata": {},
   "source": [
    "# Regular expression"
   ]
  },
  {
   "cell_type": "code",
   "execution_count": 29,
   "id": "19c4e4f9",
   "metadata": {},
   "outputs": [],
   "source": [
    "import re "
   ]
  },
  {
   "cell_type": "code",
   "execution_count": 30,
   "id": "efdfeede",
   "metadata": {},
   "outputs": [],
   "source": [
    "punctuation=re.compile(r'[-.?!,:;()[0-9]')"
   ]
  },
  {
   "cell_type": "code",
   "execution_count": 31,
   "id": "bccb3f5d",
   "metadata": {},
   "outputs": [],
   "source": [
    "post_punctuation=[]\n",
    "for words in ai_tokens:\n",
    "    word=punctuation.sub(\"\",words)\n",
    "    if len(word)>0:\n",
    "        post_punctuation.append(word)"
   ]
  },
  {
   "cell_type": "code",
   "execution_count": 32,
   "id": "8ccc69a0",
   "metadata": {},
   "outputs": [
    {
     "name": "stdout",
     "output_type": "stream",
     "text": [
      "['According', 'to', 'the', 'father', 'of', 'Artificial', 'Intelligence', 'John', 'McCarthy', 'it', 'is', 'The', 'science', 'and', 'engineering', 'of', 'making', 'intelligent', 'machines', 'especially', 'intelligent', 'computer', 'programs', 'Artificial', 'Intelligence', 'is', 'a', 'way', 'of', 'making', 'a', 'computer', 'a', 'computercontrolled', 'robot', 'or', 'a', 'software', 'think', 'intelligently', 'in', 'the', 'similar', 'manner', 'the', 'intelligent', 'humans', 'think', 'AI', 'is', 'accomplished', 'by', 'studying', 'how', 'human', 'brain', 'thinks', 'and', 'how', 'humans', 'learn', 'decide', 'and', 'work', 'while', 'trying', 'to', 'solve', 'a', 'problem', 'and', 'then', 'using', 'the', 'outcomes', 'of', 'this', 'study', 'as', 'a', 'basis', 'of', 'developing', 'intelligent', 'software', 'and', 'systems', 'Philosophy', 'of', 'AI', 'While', 'exploiting', 'the', 'power', 'of', 'the', 'computer', 'systems', 'the', 'curiosity', 'of', 'human', 'lead', 'him', 'to', 'wonder', 'Can', 'a', 'machine', 'think', 'and', 'behave', 'like', 'humans', 'do', '”', 'Thus', 'the', 'development', 'of', 'AI', 'started', 'with', 'the', 'intention', 'of', 'creating', 'similar', 'intelligence', 'in', 'machines', 'that', 'we', 'find', 'and', 'regard', 'high', 'in', 'humans', 'Goals', 'of', 'AI', 'To', 'Create', 'Expert', 'Systems', '−', 'The', 'systems', 'which', 'exhibit', 'intelligent', 'behavior', 'learn', 'demonstrate', 'explain', 'and', 'advice', 'its', 'users', 'To', 'Implement', 'Human', 'Intelligence', 'in', 'Machines', '−', 'Creating', 'systems', 'that', 'understand', 'think', 'learn', 'and', 'behave', 'like', 'humans', 'What', 'Contributes', 'to', 'AI', 'Artificial', 'intelligence', 'is', 'a', 'science', 'and', 'technology', 'based', 'on', 'disciplines', 'such', 'as', 'Computer', 'Science', 'Biology', 'Psychology', 'Linguistics', 'Mathematics', 'and', 'Engineering', 'A', 'major', 'thrust', 'of', 'AI', 'is', 'in', 'the', 'development', 'of', 'computer', 'functions', 'associated', 'with', 'human', 'intelligence', 'such', 'as', 'reasoning', 'learning', 'and', 'problem', 'solving', 'Out', 'of', 'the', 'following', 'areas', 'one', 'or', 'multiple', 'areas', 'can', 'contribute', 'to', 'build', 'an', 'intelligent', 'system']\n"
     ]
    }
   ],
   "source": [
    "print(post_punctuation)"
   ]
  },
  {
   "cell_type": "markdown",
   "id": "1f275efc",
   "metadata": {},
   "source": [
    "### POS TAGGING"
   ]
  },
  {
   "cell_type": "code",
   "execution_count": 33,
   "id": "2108db7f",
   "metadata": {},
   "outputs": [
    {
     "name": "stdout",
     "output_type": "stream",
     "text": [
      "['The', 'best', 'and', 'most', 'beautiful', 'things', 'in', 'the', 'world', 'can', 'not', 'be', 'seen', 'or', 'even', 'touched', 'but', 'must', 'be', 'felt', 'with', 'the', 'hear']\n"
     ]
    }
   ],
   "source": [
    "sent= \"The best and most beautiful things in the world cannot be seen or even touched but must be felt with the hear\"\n",
    "sent_tokens = word_tokenize(sent)\n",
    "print(sent_tokens)"
   ]
  },
  {
   "cell_type": "code",
   "execution_count": 34,
   "id": "2b6c0ebb",
   "metadata": {},
   "outputs": [
    {
     "name": "stdout",
     "output_type": "stream",
     "text": [
      "[('The', 'DT')]\n",
      "[('best', 'JJS')]\n",
      "[('and', 'CC')]\n",
      "[('most', 'JJS')]\n",
      "[('beautiful', 'NN')]\n",
      "[('things', 'NNS')]\n",
      "[('in', 'IN')]\n",
      "[('the', 'DT')]\n",
      "[('world', 'NN')]\n",
      "[('can', 'MD')]\n",
      "[('not', 'RB')]\n",
      "[('be', 'VB')]\n",
      "[('seen', 'VBN')]\n",
      "[('or', 'CC')]\n",
      "[('even', 'RB')]\n",
      "[('touched', 'VBN')]\n",
      "[('but', 'CC')]\n",
      "[('must', 'MD')]\n",
      "[('be', 'VB')]\n",
      "[('felt', 'NN')]\n",
      "[('with', 'IN')]\n",
      "[('the', 'DT')]\n",
      "[('hear', 'NN')]\n"
     ]
    }
   ],
   "source": [
    "for token in sent_tokens:\n",
    "    print(nltk.pos_tag([token]))"
   ]
  },
  {
   "cell_type": "code",
   "execution_count": 35,
   "id": "ad188b40",
   "metadata": {},
   "outputs": [
    {
     "name": "stdout",
     "output_type": "stream",
     "text": [
      "[('john', 'NN')]\n",
      "[('is', 'VBZ')]\n",
      "[('eating', 'VBG')]\n",
      "[('a', 'DT')]\n",
      "[('delicious', 'JJ')]\n",
      "[('cake', 'NN')]\n"
     ]
    }
   ],
   "source": [
    "sent2= \"john is eating a delicious cake\"\n",
    "sent_tokens = word_tokenize(sent2)\n",
    "for token in sent_tokens:\n",
    "    print(nltk.pos_tag([token]))"
   ]
  },
  {
   "cell_type": "markdown",
   "id": "491d08ab",
   "metadata": {},
   "source": [
    "## Named entity recognition"
   ]
  },
  {
   "cell_type": "code",
   "execution_count": 36,
   "id": "0767eed5",
   "metadata": {},
   "outputs": [],
   "source": [
    "from nltk import ne_chunk"
   ]
  },
  {
   "cell_type": "code",
   "execution_count": 37,
   "id": "4f4281fd",
   "metadata": {},
   "outputs": [
    {
     "name": "stdout",
     "output_type": "stream",
     "text": [
      "(S\n",
      "  The/DT\n",
      "  (ORGANIZATION US/NNP)\n",
      "  President/NNP\n",
      "  stays/VBZ\n",
      "  in/IN\n",
      "  the/DT\n",
      "  (FACILITY WHITE/NNP HOUSE/NNP))\n"
     ]
    }
   ],
   "source": [
    "NE_sent = \"The US President stays in the WHITE HOUSE\"\n",
    "NE_tokens= word_tokenize(NE_sent)\n",
    "NE_tags = nltk.pos_tag(NE_tokens)\n",
    "NE_NER = ne_chunk(NE_tags)\n",
    "print(NE_NER)"
   ]
  },
  {
   "cell_type": "code",
   "execution_count": 38,
   "id": "f0e79fb2",
   "metadata": {},
   "outputs": [],
   "source": [
    "# SYNTAX=Priciples + rules + process"
   ]
  },
  {
   "cell_type": "markdown",
   "id": "9fb02af4",
   "metadata": {},
   "source": [
    " ## chunking "
   ]
  },
  {
   "cell_type": "code",
   "execution_count": 39,
   "id": "f1768b96",
   "metadata": {},
   "outputs": [
    {
     "data": {
      "text/plain": [
       "[('The', 'DT'),\n",
       " ('big', 'JJ'),\n",
       " ('cat', 'NN'),\n",
       " ('ate', 'VBD'),\n",
       " ('the', 'DT'),\n",
       " ('little', 'JJ'),\n",
       " ('mouse', 'NN'),\n",
       " ('who', 'WP'),\n",
       " ('was', 'VBD'),\n",
       " ('after', 'IN'),\n",
       " ('fresh', 'JJ'),\n",
       " ('cheese', 'NN')]"
      ]
     },
     "execution_count": 39,
     "metadata": {},
     "output_type": "execute_result"
    }
   ],
   "source": [
    "new = \"The big cat ate the little mouse who was after fresh cheese\"\n",
    "new_tokens = nltk.pos_tag(word_tokenize(new))\n",
    "new_tokens"
   ]
  },
  {
   "cell_type": "code",
   "execution_count": 40,
   "id": "dc178aef",
   "metadata": {},
   "outputs": [],
   "source": [
    "grammer_np = r\"NP:{<DT>?<JJ>*<NN>}\"\n",
    "chunk_parser = nltk.RegexpParser(grammer_np)"
   ]
  },
  {
   "cell_type": "code",
   "execution_count": 41,
   "id": "78fbcc39",
   "metadata": {},
   "outputs": [
    {
     "data": {
      "image/png": "[encoded data removed]",
      "text/plain": [
       "Tree('S', [Tree('NP', [('The', 'DT'), ('big', 'JJ'), ('cat', 'NN')]), ('ate', 'VBD'), Tree('NP', [('the', 'DT'), ('little', 'JJ'), ('mouse', 'NN')]), ('who', 'WP'), ('was', 'VBD'), ('after', 'IN'), Tree('NP', [('fresh', 'JJ'), ('cheese', 'NN')])])"
      ]
     },
     "execution_count": 41,
     "metadata": {},
     "output_type": "execute_result"
    }
   ],
   "source": [
    "chunk_result = chunk_parser.parse(new_tokens)\n",
    "chunk_result"
   ]
  },
  {
   "cell_type": "markdown",
   "id": "1fe0d51f",
   "metadata": {},
   "source": [
    "## Write a program to tokenize non english languages "
   ]
  },
  {
   "cell_type": "markdown",
   "id": "3410ea40",
   "metadata": {},
   "source": [
    "Some terms that will be frequently used are :\n",
    "\n",
    " * Corpus – Body of text, singular. Corpora is the plural of this.\n",
    " * Lexicon – Words and their meanings.\n",
    " * Token – Each “entity” that is a part of whatever was split up based on rules.\n",
    " \n",
    "For examples, each word is a token when a sentence is “tokenized” into words. Each sentence can also be a token,\n",
    "if you tokenized the sentences out of a paragraph.\n",
    "So basically tokenizing involves splitting sentences and words from the body of the text."
   ]
  },
  {
   "cell_type": "markdown",
   "id": "dd302a3f",
   "metadata": {},
   "source": [
    "\n",
    "* Different Methods to Perform Tokenization in Python\n",
    "* Tokenization using Python split() Function\n",
    "* Tokenization using Regular Expressions\n",
    "* Tokenization using NLTK\n",
    "* Tokenization using Spacy\n",
    "* Tokenization using Keras\n",
    "* Tokenization using Gensim"
   ]
  },
  {
   "cell_type": "code",
   "execution_count": 42,
   "id": "6bfdc7da",
   "metadata": {},
   "outputs": [
    {
     "name": "stdout",
     "output_type": "stream",
     "text": [
      "['Bonjour M. Adam, comment allez-vous?', \"J'espère que tout va bien.\", \"Aujourd'hui est u\"]\n"
     ]
    }
   ],
   "source": [
    "from nltk.tokenize import sent_tokenize \n",
    "mytext = \"Bonjour M. Adam, comment allez-vous? J'espère que tout va bien. Aujourd'hui est u\"\n",
    "print(sent_tokenize(mytext,\"french\"))"
   ]
  },
  {
   "cell_type": "code",
   "execution_count": 43,
   "id": "b08e21a2",
   "metadata": {},
   "outputs": [
    {
     "name": "stdout",
     "output_type": "stream",
     "text": [
      "\n",
      "Original string:\n",
      "\n",
      "NLTK ist Open Source Software. Der Quellcode wird unter den Bedingungen der Apache License Version 2.0 vertrieben.  \n",
      "Die Dokumentation wird unter den Bedingungen der Creative Commons-Lizenz Namensnennung - Nicht kommerziell - Keine \n",
      "abgeleiteten Werke 3.0 in den Vereinigten Staaten verteilt.\n",
      "\n",
      "\n",
      "Sentence-tokenized copy in a list:\n",
      "['\\nNLTK ist Open Source Software.', 'Der Quellcode wird unter den Bedingungen der Apache License Version 2.0 vertrieben.', 'Die Dokumentation wird unter den Bedingungen der Creative Commons-Lizenz Namensnennung - Nicht kommerziell - Keine \\nabgeleiteten Werke 3.0 in den Vereinigten Staaten verteilt.']\n",
      "\n",
      "Read the list:\n",
      "\n",
      "NLTK ist Open Source Software.\n",
      "Der Quellcode wird unter den Bedingungen der Apache License Version 2.0 vertrieben.\n",
      "Die Dokumentation wird unter den Bedingungen der Creative Commons-Lizenz Namensnennung - Nicht kommerziell - Keine \n",
      "abgeleiteten Werke 3.0 in den Vereinigten Staaten verteilt.\n"
     ]
    }
   ],
   "source": [
    "text = '''\n",
    "NLTK ist Open Source Software. Der Quellcode wird unter den Bedingungen der Apache License Version 2.0 vertrieben.  \n",
    "Die Dokumentation wird unter den Bedingungen der Creative Commons-Lizenz Namensnennung - Nicht kommerziell - Keine \n",
    "abgeleiteten Werke 3.0 in den Vereinigten Staaten verteilt.\n",
    "'''\n",
    "print(\"\\nOriginal string:\")\n",
    "print(text)\n",
    "from nltk.tokenize import sent_tokenize\n",
    "token_text = sent_tokenize(text, language='german')\n",
    "print(\"\\nSentence-tokenized copy in a list:\")\n",
    "print(token_text)\n",
    "print(\"\\nRead the list:\")\n",
    "for s in token_text:\n",
    "    print(s)"
   ]
  },
  {
   "cell_type": "code",
   "execution_count": 44,
   "id": "5deb21c9",
   "metadata": {},
   "outputs": [
    {
     "data": {
      "text/plain": [
       "['NLTK',\n",
       " 'ist',\n",
       " 'Open',\n",
       " 'Source',\n",
       " 'Software',\n",
       " '.',\n",
       " 'Der',\n",
       " 'Quellcode',\n",
       " 'wird',\n",
       " 'unter',\n",
       " 'den',\n",
       " 'Bedingungen',\n",
       " 'der',\n",
       " 'Apache',\n",
       " 'License',\n",
       " 'Version',\n",
       " '2.0',\n",
       " 'vertrieben',\n",
       " '.',\n",
       " 'Die',\n",
       " 'Dokumentation',\n",
       " 'wird',\n",
       " 'unter',\n",
       " 'den',\n",
       " 'Bedingungen',\n",
       " 'der',\n",
       " 'Creative',\n",
       " 'Commons-Lizenz',\n",
       " 'Namensnennung',\n",
       " '-',\n",
       " 'Nicht',\n",
       " 'kommerziell',\n",
       " '-',\n",
       " 'Keine',\n",
       " 'abgeleiteten',\n",
       " 'Werke',\n",
       " '3.0',\n",
       " 'in',\n",
       " 'den',\n",
       " 'Vereinigten',\n",
       " 'Staaten',\n",
       " 'verteilt',\n",
       " '.']"
      ]
     },
     "execution_count": 44,
     "metadata": {},
     "output_type": "execute_result"
    }
   ],
   "source": [
    "quote_tokens = nltk.word_tokenize(text)\n",
    "quote_tokens "
   ]
  },
  {
   "cell_type": "markdown",
   "id": "4a71c3a1",
   "metadata": {},
   "source": [
    "## Important NLP Libraries for Indian Languages\n",
    "\n",
    "iNLTK- Hindi, Punjabi, Sanskrit, Gujarati, Kannada, Malyalam, Nepali, Odia, Marathi, Bengali, Tamil, Urdu Indic NLP Library- Assamese, Sindhi, Sinhala, Sanskrit, Konkani, Kannada, Telugu, StanfordNLP- Many of the above languages\n",
    "\n",
    "iNLTK (Natural Language Toolkit for Indic Languages)"
   ]
  },
  {
   "cell_type": "code",
   "execution_count": null,
   "id": "1d89c07f",
   "metadata": {},
   "outputs": [],
   "source": []
  },
  {
   "cell_type": "code",
   "execution_count": 50,
   "id": "f1c28409",
   "metadata": {},
   "outputs": [],
   "source": []
  },
  {
   "cell_type": "code",
   "execution_count": null,
   "id": "5cee7605",
   "metadata": {},
   "outputs": [],
   "source": []
  }
 ],
 "metadata": {
  "kernelspec": {
   "display_name": "Python 3",
   "language": "python",
   "name": "python3"
  },
  "language_info": {
   "codemirror_mode": {
    "name": "ipython",
    "version": 3
   },
   "file_extension": ".py",
   "mimetype": "text/x-python",
   "name": "python",
   "nbconvert_exporter": "python",
   "pygments_lexer": "ipython3",
   "version": "3.8.8"
  }
 },
 "nbformat": 4,
 "nbformat_minor": 5
}
