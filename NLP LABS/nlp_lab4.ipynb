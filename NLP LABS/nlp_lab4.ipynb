{
 "cells": [
  {
   "cell_type": "markdown",
   "id": "9bf6bce1-2c28-41ce-be0d-b658be72147b",
   "metadata": {},
   "source": [
    "# Lab 4 - Thomaskutty Reji 20122011"
   ]
  },
  {
   "cell_type": "markdown",
   "id": "f6ae3204-55fd-4f1e-a7d1-7d791031ee18",
   "metadata": {},
   "source": [
    "####  1. write a program to get antonyms from wordnet \n",
    "\n",
    "####  2. write a program for stemming non-englidh words \n",
    "\n",
    "### ============================================"
   ]
  },
  {
   "cell_type": "markdown",
   "id": "851ed1af-6a71-4d54-b6bc-dda9e0a5f539",
   "metadata": {},
   "source": [
    "#### To get synonyms from wordnet"
   ]
  },
  {
   "cell_type": "code",
   "execution_count": 3,
   "id": "7d8bfffc-9d00-4260-a213-027fa8170e0a",
   "metadata": {},
   "outputs": [
    {
     "name": "stdout",
     "output_type": "stream",
     "text": [
      "a symptom of some physical hurt or disorder\n",
      "['the patient developed severe pain and distension']\n"
     ]
    }
   ],
   "source": [
    "# wordnet includes groups of synonyms and a brief definition.\n",
    "from nltk.corpus import wordnet\n",
    "syn = wordnet.synsets(\"pain\")\n",
    "print(syn[0].definition())\n",
    "print(syn[0].examples())"
   ]
  },
  {
   "cell_type": "code",
   "execution_count": 4,
   "id": "d37da570-5946-4be1-a3ef-5137673e8665",
   "metadata": {},
   "outputs": [
    {
     "name": "stdout",
     "output_type": "stream",
     "text": [
      "['computer', 'computing_machine', 'computing_device', 'data_processor', 'electronic_computer', 'information_processing_system', 'calculator', 'reckoner', 'figurer', 'estimator', 'computer']\n"
     ]
    }
   ],
   "source": [
    "from nltk.corpus import wordnet\n",
    "synonyms = []\n",
    "for syn in wordnet.synsets('Computer'):\n",
    " for lemma in syn.lemmas():\n",
    "     synonyms.append(lemma.name())\n",
    "print(synonyms)"
   ]
  },
  {
   "cell_type": "markdown",
   "id": "ec798833-8ab2-40b1-b254-31b5ba21cb9f",
   "metadata": {},
   "source": [
    "### To get antonymns from wrodnet "
   ]
  },
  {
   "cell_type": "code",
   "execution_count": 7,
   "id": "1f35a8e5-26e6-4f99-9f55-9d8c5151eeb0",
   "metadata": {},
   "outputs": [
    {
     "name": "stdout",
     "output_type": "stream",
     "text": [
      "{'dynamic', 'alive', 'combat-ready', 'participating', 'active_agent', 'active_voice', 'active', 'fighting'}\n",
      "{'inactive', 'passive', 'extinct', 'dormant', 'quiet'}\n"
     ]
    }
   ],
   "source": [
    "from nltk.corpus import wordnet\n",
    "synonyms = []\n",
    "antonyms = []\n",
    "for syn in wordnet.synsets(\"active\"):\n",
    "    for l in syn.lemmas():\n",
    "         synonyms.append(l.name())\n",
    "    if l.antonyms():\n",
    "             antonyms.append(l.antonyms()[0].name())\n",
    "print(set(synonyms))\n",
    "print(set(antonyms))"
   ]
  },
  {
   "cell_type": "code",
   "execution_count": 13,
   "id": "d0e411a5-522b-42fd-8510-96e93d03b2b2",
   "metadata": {},
   "outputs": [
    {
     "name": "stdout",
     "output_type": "stream",
     "text": [
      "Name of the word is: play.n.01\n",
      "Definition of the word is: a dramatic work intended for performance by actors on a stage\n",
      "Example of the word is: ['he wrote several plays but only one was produced on Broadway']\n",
      "Lemma('play.n.01.play')\n",
      "Lemma('play.n.01.drama')\n",
      "Lemma('play.n.01.dramatic_play')\n",
      "\n",
      "Name of the word is: play.n.02\n",
      "Definition of the word is: a theatrical performance of a drama\n",
      "Example of the word is: ['the play lasted two hours']\n",
      "Lemma('play.n.02.play')\n",
      "\n",
      "Name of the word is: play.n.03\n",
      "Definition of the word is: a preset plan of action in team sports\n",
      "Example of the word is: ['the coach drew up the plays for her team']\n",
      "Lemma('play.n.03.play')\n",
      "\n",
      "Name of the word is: maneuver.n.03\n",
      "Definition of the word is: a deliberate coordinated movement requiring dexterity and skill\n",
      "Example of the word is: ['he made a great maneuver', 'the runner was out on a play by the shortstop']\n",
      "Lemma('maneuver.n.03.maneuver')\n",
      "Lemma('maneuver.n.03.manoeuvre')\n",
      "Lemma('maneuver.n.03.play')\n",
      "\n",
      "Name of the word is: play.n.05\n",
      "Definition of the word is: a state in which action is feasible\n",
      "Example of the word is: ['the ball was still in play', \"insiders said the company's stock was in play\"]\n",
      "Lemma('play.n.05.play')\n",
      "\n",
      "Name of the word is: play.n.06\n",
      "Definition of the word is: utilization or exercise\n",
      "Example of the word is: ['the play of the imagination']\n",
      "Lemma('play.n.06.play')\n",
      "\n",
      "Name of the word is: bid.n.02\n",
      "Definition of the word is: an attempt to get something\n",
      "Example of the word is: ['they made a futile play for power', 'he made a bid to gain attention']\n",
      "Lemma('bid.n.02.bid')\n",
      "Lemma('bid.n.02.play')\n",
      "\n",
      "Name of the word is: play.n.08\n",
      "Definition of the word is: activity by children that is guided more by imagination than by fixed rules\n",
      "Example of the word is: ['Freud believed in the utility of play to a small child']\n",
      "Lemma('play.n.08.play')\n",
      "Lemma('play.n.08.child's_play')\n",
      "\n",
      "Name of the word is: playing_period.n.01\n",
      "Definition of the word is: (in games or plays or other performances) the time during which play proceeds\n",
      "Example of the word is: ['rain stopped play in the 4th inning']\n",
      "Lemma('playing_period.n.01.playing_period')\n",
      "Lemma('playing_period.n.01.period_of_play')\n",
      "Lemma('playing_period.n.01.play')\n",
      "\n",
      "Name of the word is: free_rein.n.01\n",
      "Definition of the word is: the removal of constraints\n",
      "Example of the word is: ['he gave free rein to his impulses', \"they gave full play to the artist's talent\"]\n",
      "Lemma('free_rein.n.01.free_rein')\n",
      "Lemma('free_rein.n.01.play')\n",
      "\n",
      "Name of the word is: shimmer.n.01\n",
      "Definition of the word is: a weak and tremulous light\n",
      "Example of the word is: ['the shimmer of colors on iridescent feathers', 'the play of light on the water']\n",
      "Lemma('shimmer.n.01.shimmer')\n",
      "Lemma('shimmer.n.01.play')\n",
      "\n",
      "Name of the word is: fun.n.02\n",
      "Definition of the word is: verbal wit or mockery (often at another's expense but not to be taken seriously)\n",
      "Example of the word is: ['he became a figure of fun', 'he said it in sport']\n",
      "Lemma('fun.n.02.fun')\n",
      "Lemma('fun.n.02.play')\n",
      "Lemma('fun.n.02.sport')\n",
      "\n",
      "Name of the word is: looseness.n.05\n",
      "Definition of the word is: movement or space for movement\n",
      "Example of the word is: ['there was too much play in the steering wheel']\n",
      "Lemma('looseness.n.05.looseness')\n",
      "Lemma('looseness.n.05.play')\n",
      "\n",
      "Name of the word is: play.n.14\n",
      "Definition of the word is: gay or light-hearted recreational activity for diversion or amusement\n",
      "Example of the word is: ['it was all done in play', 'their frolic in the surf threatened to become ugly']\n",
      "Lemma('play.n.14.play')\n",
      "Lemma('play.n.14.frolic')\n",
      "Lemma('play.n.14.romp')\n",
      "Lemma('play.n.14.gambol')\n",
      "Lemma('play.n.14.caper')\n",
      "\n",
      "Name of the word is: turn.n.03\n",
      "Definition of the word is: (game) the activity of doing something in an agreed succession\n",
      "Example of the word is: ['it is my turn', 'it is still my play']\n",
      "Lemma('turn.n.03.turn')\n",
      "Lemma('turn.n.03.play')\n",
      "\n",
      "Name of the word is: gambling.n.01\n",
      "Definition of the word is: the act of playing for stakes in the hope of winning (including the payment of a price for a chance to win a prize)\n",
      "Example of the word is: ['his gambling cost him a fortune', 'there was heavy play at the blackjack table']\n",
      "Lemma('gambling.n.01.gambling')\n",
      "Lemma('gambling.n.01.gaming')\n",
      "Lemma('gambling.n.01.play')\n",
      "\n",
      "Name of the word is: play.n.17\n",
      "Definition of the word is: the act using a sword (or other weapon) vigorously and skillfully\n",
      "Example of the word is: []\n",
      "Lemma('play.n.17.play')\n",
      "Lemma('play.n.17.swordplay')\n",
      "\n",
      "Name of the word is: play.v.01\n",
      "Definition of the word is: participate in games or sport\n",
      "Example of the word is: ['We played hockey all afternoon', 'play cards', 'Pele played for the Brazilian teams in many important matches']\n",
      "Lemma('play.v.01.play')\n",
      "\n",
      "Name of the word is: play.v.02\n",
      "Definition of the word is: act or have an effect in a specified way or with a specific effect or outcome\n",
      "Example of the word is: ['This factor played only a minor part in his decision', 'This development played into her hands', 'I played no role in your dismissal']\n",
      "Lemma('play.v.02.play')\n",
      "\n",
      "Name of the word is: play.v.03\n",
      "Definition of the word is: play on an instrument\n",
      "Example of the word is: ['The band played all night long']\n",
      "Lemma('play.v.03.play')\n",
      "\n",
      "Name of the word is: act.v.03\n",
      "Definition of the word is: play a role or part\n",
      "Example of the word is: ['Gielgud played Hamlet', 'She wants to act Lady Macbeth, but she is too young for the role', \"She played the servant to her husband's master\"]\n",
      "Lemma('act.v.03.act')\n",
      "Lemma('act.v.03.play')\n",
      "Lemma('act.v.03.represent')\n",
      "\n",
      "Name of the word is: play.v.05\n",
      "Definition of the word is: be at play; be engaged in playful activity; amuse oneself in a way characteristic of children\n",
      "Example of the word is: ['The kids were playing outside all day', 'I used to play with trucks as a little girl']\n",
      "Lemma('play.v.05.play')\n",
      "\n",
      "Name of the word is: play.v.06\n",
      "Definition of the word is: replay (as a melody)\n",
      "Example of the word is: ['Play it again, Sam', 'She played the third movement very beautifully']\n",
      "Lemma('play.v.06.play')\n",
      "Lemma('play.v.06.spiel')\n",
      "\n",
      "Name of the word is: play.v.07\n",
      "Definition of the word is: perform music on (a musical instrument)\n",
      "Example of the word is: ['He plays the flute', 'Can you play on this old recorder?']\n",
      "Lemma('play.v.07.play')\n",
      "\n",
      "Name of the word is: act.v.05\n",
      "Definition of the word is: pretend to have certain qualities or state of mind\n",
      "Example of the word is: ['He acted the idiot', 'She plays deaf when the news are bad']\n",
      "Lemma('act.v.05.act')\n",
      "Lemma('act.v.05.play')\n",
      "Lemma('act.v.05.act_as')\n",
      "\n",
      "Name of the word is: play.v.09\n",
      "Definition of the word is: move or seem to move quickly, lightly, or irregularly\n",
      "Example of the word is: ['The spotlights played on the politicians']\n",
      "Lemma('play.v.09.play')\n",
      "\n",
      "Name of the word is: play.v.10\n",
      "Definition of the word is: bet or wager (money)\n",
      "Example of the word is: ['He played $20 on the new horse', 'She plays the races']\n",
      "Lemma('play.v.10.play')\n",
      "\n",
      "Name of the word is: play.v.11\n",
      "Definition of the word is: engage in recreational activities rather than work; occupy oneself in a diversion\n",
      "Example of the word is: ['On weekends I play', 'The students all recreate alike']\n",
      "Lemma('play.v.11.play')\n",
      "Lemma('play.v.11.recreate')\n",
      "\n",
      "Name of the word is: play.v.12\n",
      "Definition of the word is: pretend to be somebody in the framework of a game or playful activity\n",
      "Example of the word is: [\"Let's play like I am mommy\", 'Play cowboy and Indians']\n",
      "Lemma('play.v.12.play')\n",
      "\n",
      "Name of the word is: play.v.13\n",
      "Definition of the word is: emit recorded sound\n",
      "Example of the word is: ['The tape was playing for hours', 'the stereo was playing Beethoven when I entered']\n",
      "Lemma('play.v.13.play')\n",
      "\n",
      "Name of the word is: play.v.14\n",
      "Definition of the word is: perform on a certain location\n",
      "Example of the word is: ['The prodigy played Carnegie Hall at the age of 16', 'She has been playing on Broadway for years']\n",
      "Lemma('play.v.14.play')\n",
      "\n",
      "Name of the word is: play.v.15\n",
      "Definition of the word is: put (a card or piece) into play during a game, or act strategically as if in a card game\n",
      "Example of the word is: ['He is playing his cards close to his chest', 'The Democrats still have some cards to play before they will concede the electoral victory']\n",
      "Lemma('play.v.15.play')\n",
      "\n",
      "Name of the word is: play.v.16\n",
      "Definition of the word is: engage in an activity as if it were a game rather than take it seriously\n",
      "Example of the word is: ['They played games on their opponents', 'play the stock market', 'play with her feelings', 'toy with an idea']\n",
      "Lemma('play.v.16.play')\n",
      "Lemma('play.v.16.toy')\n",
      "\n",
      "Name of the word is: play.v.17\n",
      "Definition of the word is: behave in a certain way\n",
      "Example of the word is: ['play safe', 'play it safe', 'play fair']\n",
      "Lemma('play.v.17.play')\n",
      "\n",
      "Name of the word is: play.v.18\n",
      "Definition of the word is: cause to emit recorded audio or video\n",
      "Example of the word is: ['They ran the tapes over and over again', \"I'll play you my favorite record\", 'He never tires of playing that video']\n",
      "Lemma('play.v.18.play')\n",
      "Lemma('play.v.18.run')\n",
      "\n",
      "Name of the word is: toy.v.02\n",
      "Definition of the word is: manipulate manually or in one's mind or imagination\n",
      "Example of the word is: ['She played nervously with her wedding ring', \"Don't fiddle with the screws\", 'He played with the idea of running for the Senate']\n",
      "Lemma('toy.v.02.toy')\n",
      "Lemma('toy.v.02.fiddle')\n",
      "Lemma('toy.v.02.diddle')\n",
      "Lemma('toy.v.02.play')\n",
      "\n",
      "Name of the word is: play.v.20\n",
      "Definition of the word is: use to one's advantage\n",
      "Example of the word is: [\"She plays on her clients' emotions\"]\n",
      "Lemma('play.v.20.play')\n",
      "\n",
      "Name of the word is: dally.v.04\n",
      "Definition of the word is: consider not very seriously\n",
      "Example of the word is: ['He is trifling with her', 'She plays with the thought of moving to Tasmania']\n",
      "Lemma('dally.v.04.dally')\n",
      "Lemma('dally.v.04.trifle')\n",
      "Lemma('dally.v.04.play')\n",
      "\n",
      "Name of the word is: play.v.22\n",
      "Definition of the word is: be received or accepted or interpreted in a specific way\n",
      "Example of the word is: [\"This speech didn't play well with the American public\", 'His remarks played to the suspicions of the committee']\n",
      "Lemma('play.v.22.play')\n",
      "\n",
      "Name of the word is: dally.v.01\n",
      "Definition of the word is: behave carelessly or indifferently\n",
      "Example of the word is: [\"Play about with a young girl's affection\"]\n",
      "Lemma('dally.v.01.dally')\n",
      "Lemma('dally.v.01.toy')\n",
      "Lemma('dally.v.01.play')\n",
      "Lemma('dally.v.01.flirt')\n",
      "\n",
      "Name of the word is: play.v.24\n",
      "Definition of the word is: cause to move or operate freely within a bounded space\n",
      "Example of the word is: ['The engine has a wheel that is playing in a rack']\n",
      "Lemma('play.v.24.play')\n",
      "\n",
      "Name of the word is: act.v.10\n",
      "Definition of the word is: perform on a stage or theater\n",
      "Example of the word is: ['She acts in this play', \"He acted in `Julius Caesar'\", \"I played in `A Christmas Carol'\"]\n",
      "Lemma('act.v.10.act')\n",
      "Lemma('act.v.10.play')\n",
      "Lemma('act.v.10.roleplay')\n",
      "Lemma('act.v.10.playact')\n",
      "\n",
      "Name of the word is: play.v.26\n",
      "Definition of the word is: be performed or presented for public viewing\n",
      "Example of the word is: [\"What's playing in the local movie theater?\", \"`Cats' has been playing on Broadway for many years\"]\n",
      "Lemma('play.v.26.play')\n",
      "\n",
      "Name of the word is: bring.v.03\n",
      "Definition of the word is: cause to happen or to occur as a consequence\n",
      "Example of the word is: ['I cannot work a miracle', 'wreak havoc', 'bring comments', 'play a joke', 'The rain brought relief to the drought-stricken area']\n",
      "Lemma('bring.v.03.bring')\n",
      "Lemma('bring.v.03.work')\n",
      "Lemma('bring.v.03.play')\n",
      "Lemma('bring.v.03.wreak')\n",
      "Lemma('bring.v.03.make_for')\n",
      "\n",
      "Name of the word is: play.v.28\n",
      "Definition of the word is: discharge or direct or be discharged or directed as if in a continuous stream\n",
      "Example of the word is: ['play water from a hose', 'The fountains played all day']\n",
      "Lemma('play.v.28.play')\n",
      "\n",
      "Name of the word is: play.v.29\n",
      "Definition of the word is: make bets\n",
      "Example of the word is: ['Play the races', 'play the casinos in Trouville']\n",
      "Lemma('play.v.29.play')\n",
      "\n",
      "Name of the word is: bet.v.02\n",
      "Definition of the word is: stake on the outcome of an issue\n",
      "Example of the word is: ['I bet $100 on that new horse', 'She played all her money on the dark horse']\n",
      "Lemma('bet.v.02.bet')\n",
      "Lemma('bet.v.02.wager')\n",
      "Lemma('bet.v.02.play')\n",
      "\n",
      "Name of the word is: play.v.31\n",
      "Definition of the word is: shoot or hit in a particular manner\n",
      "Example of the word is: ['She played a good backhand last night']\n",
      "Lemma('play.v.31.play')\n",
      "\n",
      "Name of the word is: play.v.32\n",
      "Definition of the word is: use or move\n",
      "Example of the word is: ['I had to play my queen']\n",
      "Lemma('play.v.32.play')\n",
      "\n",
      "Name of the word is: play.v.33\n",
      "Definition of the word is: employ in a game or in a specific position\n",
      "Example of the word is: ['They played him on first base']\n",
      "Lemma('play.v.33.play')\n",
      "\n",
      "Name of the word is: meet.v.10\n",
      "Definition of the word is: contend against an opponent in a sport, game, or battle\n",
      "Example of the word is: ['Princeton plays Yale this weekend', 'Charlie likes to play Mary']\n",
      "Lemma('meet.v.10.meet')\n",
      "Lemma('meet.v.10.encounter')\n",
      "Lemma('meet.v.10.play')\n",
      "Lemma('meet.v.10.take_on')\n",
      "\n",
      "Name of the word is: play.v.35\n",
      "Definition of the word is: exhaust by allowing to pull on the line\n",
      "Example of the word is: ['play a hooked fish']\n",
      "Lemma('play.v.35.play')\n",
      "\n"
     ]
    }
   ],
   "source": [
    "for words in wordnet.synsets(\"play\"):\n",
    "        print(\"Name of the word is:\", words.name())\n",
    "        print(\"Definition of the word is:\", words.definition())\n",
    "        print(\"Example of the word is:\", words.examples())\n",
    "        for lemma in words.lemmas():\n",
    "                 print(lemma)\n",
    "        print()"
   ]
  },
  {
   "cell_type": "code",
   "execution_count": 15,
   "id": "befe9de2-7027-43a0-8271-f81979ad503e",
   "metadata": {},
   "outputs": [
    {
     "name": "stdout",
     "output_type": "stream",
     "text": [
      "{'new', 'newly', 'Modern', 'fresh', 'unexampled', 'New', 'young', 'newfangled', 'freshly', 'raw', 'novel'}\n",
      "{'worn', 'old'}\n"
     ]
    }
   ],
   "source": [
    "# getting the synonyms and antonyms of the word 'new'\n",
    "from nltk.corpus import wordnet\n",
    "synonyms = []\n",
    "antonyms = []\n",
    "for syn in wordnet.synsets(\"new\"):\n",
    "    for l in syn.lemmas():\n",
    "         synonyms.append(l.name())\n",
    "    if l.antonyms():\n",
    "             antonyms.append(l.antonyms()[0].name())\n",
    "print(set(synonyms))\n",
    "print(set(antonyms))"
   ]
  },
  {
   "cell_type": "markdown",
   "id": "6af9d044-26d1-4dce-bf96-3fba4e7d684b",
   "metadata": {},
   "source": [
    "### Generating more abstract term of a word "
   ]
  },
  {
   "cell_type": "code",
   "execution_count": 22,
   "id": "727f4aa2-e44a-4940-8562-4f90773ba1f5",
   "metadata": {},
   "outputs": [
    {
     "name": "stdout",
     "output_type": "stream",
     "text": [
      "[Synset('dramatic_composition.n.01')]\n"
     ]
    }
   ],
   "source": [
    "word = wordnet.synsets(\"play\")[0]\n",
    "print(word.hypernyms())"
   ]
  },
  {
   "cell_type": "code",
   "execution_count": 21,
   "id": "c1e7b832-eb4c-4040-8712-8dc215193696",
   "metadata": {},
   "outputs": [
    {
     "data": {
      "text/plain": [
       "'motor_vehicle.n.01'"
      ]
     },
     "execution_count": 21,
     "metadata": {},
     "output_type": "execute_result"
    }
   ],
   "source": [
    "car_syns = wordnet.synsets('car')\n",
    "syn = car_syns[0]\n",
    "syn.hypernyms()[0].name()"
   ]
  },
  {
   "cell_type": "code",
   "execution_count": 23,
   "id": "c90aec81-803a-483d-8466-fa89dd2b1662",
   "metadata": {},
   "outputs": [
    {
     "name": "stdout",
     "output_type": "stream",
     "text": [
      "Synset name: hello.n.01\n",
      "\n",
      "Synset abstract term: [Synset('greeting.n.01')]\n",
      "\n",
      "Synset specific term: [Synset('calling_card.n.02'), Synset('good_afternoon.n.01'), Synset('good_morning.n.01'), Synset('hail.n.03'), Synset('hello.n.01'), Synset('pax.n.01'), Synset('reception.n.01'), Synset('regard.n.03'), Synset('salute.n.02'), Synset('salute.n.03'), Synset('welcome.n.02'), Synset('well-wishing.n.01')]\n",
      "\n",
      "Synset root hypernerm: [Synset('entity.n.01')]\n"
     ]
    }
   ],
   "source": [
    "syn = wordnet.synsets('hello')[0]\n",
    "print (\"Synset name:\", syn.name())\n",
    "print (\"\\nSynset abstract term:\", syn.hypernyms())\n",
    "print (\"\\nSynset specific term:\",\n",
    "syn.hypernyms()[0].hyponyms())\n",
    "syn.root_hypernyms()\n",
    "print (\"\\nSynset root hypernerm:\", syn.root_hypernyms())"
   ]
  },
  {
   "cell_type": "markdown",
   "id": "faace23c-97f6-4bed-873f-49988abf8e87",
   "metadata": {},
   "source": [
    "### Similarity between words"
   ]
  },
  {
   "cell_type": "code",
   "execution_count": 24,
   "id": "09308fa9-c51f-490b-abab-4d5e2d573234",
   "metadata": {},
   "outputs": [
    {
     "name": "stdout",
     "output_type": "stream",
     "text": [
      "0.9090909090909091\n"
     ]
    }
   ],
   "source": [
    "word1 = wordnet.synsets(\"ship\", \"n\")[0]\n",
    "word2 = wordnet.synsets(\"boat\", \"n\")[0]\n",
    "print(word1.wup_similarity(word2))"
   ]
  },
  {
   "cell_type": "code",
   "execution_count": 29,
   "id": "9f32ec06-1b26-4620-8894-0ad4f0ca3639",
   "metadata": {},
   "outputs": [
    {
     "name": "stdout",
     "output_type": "stream",
     "text": [
      "0.875\n"
     ]
    }
   ],
   "source": [
    "word1 = wordnet.synsets(\"female\", \"n\")[0]\n",
    "word2 = wordnet.synsets(\"male\", \"n\")[0]\n",
    "print(word1.wup_similarity(word2))"
   ]
  },
  {
   "cell_type": "code",
   "execution_count": 34,
   "id": "a474edb6-baeb-469f-9ba8-89169af8b8d5",
   "metadata": {},
   "outputs": [
    {
     "name": "stdout",
     "output_type": "stream",
     "text": [
      "0.1\n"
     ]
    }
   ],
   "source": [
    "word1 = wordnet.synsets(\"bat\", \"n\")[0]\n",
    "word2 = wordnet.synsets(\"batting\", \"n\")[0]\n",
    "print(word1.wup_similarity(word2))"
   ]
  },
  {
   "cell_type": "code",
   "execution_count": 32,
   "id": "43fb518e-0838-4891-a80c-034dbc146f48",
   "metadata": {},
   "outputs": [
    {
     "name": "stdout",
     "output_type": "stream",
     "text": [
      "0.9\n"
     ]
    }
   ],
   "source": [
    "word1 = wordnet.synsets(\"fruit\", \"n\")[0]\n",
    "word2 = wordnet.synsets(\"apple\", \"n\")[0]\n",
    "print(word1.wup_similarity(word2))"
   ]
  },
  {
   "cell_type": "code",
   "execution_count": 33,
   "id": "0f51fc3a-ab14-4ef7-ab16-66a4765957ba",
   "metadata": {},
   "outputs": [
    {
     "name": "stdout",
     "output_type": "stream",
     "text": [
      "1.0\n"
     ]
    }
   ],
   "source": [
    "word1 = wordnet.synsets(\"bharat\", \"n\")[0]\n",
    "word2 = wordnet.synsets(\"india\", \"n\")[0]\n",
    "print(word1.wup_similarity(word2))"
   ]
  },
  {
   "cell_type": "markdown",
   "id": "b1648257-cc1d-44ef-88eb-b5e44cee16cb",
   "metadata": {},
   "source": [
    "### Checking how parts of speech tagging works."
   ]
  },
  {
   "cell_type": "code",
   "execution_count": 38,
   "id": "1477f8f8-e623-48dd-85d7-824658a81603",
   "metadata": {},
   "outputs": [
    {
     "name": "stdout",
     "output_type": "stream",
     "text": [
      "hello ==> Syn tag :  n\n",
      "doing ==> Syn tag :  v\n",
      "beautiful ===> Syn tag :  a\n",
      "quickly ===> Syn tag :  r\n"
     ]
    }
   ],
   "source": [
    "# Parts of speech\n",
    "syn = wordnet.synsets('hello')[0]\n",
    "print (\"hello ==> Syn tag : \", syn.pos())\n",
    "syn = wordnet.synsets('doing')[0]\n",
    "print (\"doing ==> Syn tag : \", syn.pos())\n",
    "syn = wordnet.synsets('beautiful')[0]\n",
    "print (\"beautiful ===> Syn tag : \", syn.pos())\n",
    "syn = wordnet.synsets('quickly')[0]\n",
    "print (\"quickly ===> Syn tag : \", syn.pos())"
   ]
  },
  {
   "cell_type": "markdown",
   "id": "16697410-5eba-495d-b078-a5a0b9ed1880",
   "metadata": {},
   "source": [
    "# part 2 "
   ]
  },
  {
   "cell_type": "markdown",
   "id": "dd0738f2-f0f3-42fe-9d58-39fdf460c49c",
   "metadata": {},
   "source": [
    "###  Write a program for stemming non-englidh words"
   ]
  },
  {
   "cell_type": "code",
   "execution_count": 43,
   "id": "5f96d9be-e3e2-4143-9938-aa367a670721",
   "metadata": {},
   "outputs": [
    {
     "data": {
      "text/plain": [
       "'corr'"
      ]
     },
     "execution_count": 43,
     "metadata": {},
     "output_type": "execute_result"
    }
   ],
   "source": [
    "# stemming of spanish words \n",
    "from nltk.stem.snowball import SnowballStemmer\n",
    "spanishStemmer = SnowballStemmer(\"spanish\", ignore_stopwords=True)\n",
    "spanishStemmer.stem(\"Corriendo\")"
   ]
  },
  {
   "cell_type": "code",
   "execution_count": 45,
   "id": "24da88e6-6a46-44a3-a263-47706411e0fc",
   "metadata": {},
   "outputs": [
    {
     "data": {
      "text/plain": [
       "'bonjour'"
      ]
     },
     "execution_count": 45,
     "metadata": {},
     "output_type": "execute_result"
    }
   ],
   "source": [
    "## stemming of french words \n",
    "from nltk.stem.snowball import FrenchStemmer\n",
    "frenchStemmer = FrenchStemmer(\"french\")\n",
    "frenchStemmer.stem(\"Bonjoura\")"
   ]
  },
  {
   "cell_type": "code",
   "execution_count": 48,
   "id": "da8fb282-da35-4e22-b9bc-c1d1a5993ed2",
   "metadata": {},
   "outputs": [
    {
     "data": {
      "text/plain": [
       "'eat'"
      ]
     },
     "execution_count": 48,
     "metadata": {},
     "output_type": "execute_result"
    }
   ],
   "source": [
    "## stemming of english words \n",
    "englishStemmer = SnowballStemmer(\"english\", ignore_stopwords=True)\n",
    "englishStemmer.stem(\"eating\")"
   ]
  },
  {
   "cell_type": "code",
   "execution_count": 50,
   "id": "ac4688ac-47e0-4909-89e0-90958cc28c50",
   "metadata": {},
   "outputs": [
    {
     "data": {
      "text/plain": [
       "'having'"
      ]
     },
     "execution_count": 50,
     "metadata": {},
     "output_type": "execute_result"
    }
   ],
   "source": [
    "englishStemmer = SnowballStemmer(\"english\",ignore_stopwords=True)\n",
    "englishStemmer.stem(\"having\")"
   ]
  },
  {
   "cell_type": "code",
   "execution_count": 51,
   "id": "73693183-dc34-41b8-a7e5-513bbf051ee6",
   "metadata": {},
   "outputs": [
    {
     "data": {
      "text/plain": [
       "'have'"
      ]
     },
     "execution_count": 51,
     "metadata": {},
     "output_type": "execute_result"
    }
   ],
   "source": [
    "englishStemmer = SnowballStemmer(\"english\",ignore_stopwords=False)\n",
    "englishStemmer.stem(\"having\")"
   ]
  },
  {
   "cell_type": "code",
   "execution_count": 15,
   "id": "19cc3429-3b5d-4f62-a9d3-aa7efc5ad3e7",
   "metadata": {},
   "outputs": [
    {
     "data": {
      "text/plain": [
       "'write'"
      ]
     },
     "execution_count": 15,
     "metadata": {},
     "output_type": "execute_result"
    }
   ],
   "source": [
    "from nltk.stem import PorterStemmer\n",
    "porter_stemmer = PorterStemmer()\n",
    "porter_stemmer.stem(\"writing\")"
   ]
  },
  {
   "cell_type": "code",
   "execution_count": 55,
   "id": "8b646090-7c45-4551-8037-652b25348bce",
   "metadata": {},
   "outputs": [
    {
     "data": {
      "text/plain": [
       "'eat'"
      ]
     },
     "execution_count": 55,
     "metadata": {},
     "output_type": "execute_result"
    }
   ],
   "source": [
    "from nltk.stem import LancasterStemmer\n",
    "lanc_stemmer = LancasterStemmer()\n",
    "lanc_stemmer.stem(\"eats\")"
   ]
  },
  {
   "cell_type": "markdown",
   "id": "55c7a583-d164-4e90-b145-1fb88b9e5a8a",
   "metadata": {},
   "source": [
    "#### Using regex stemmer "
   ]
  },
  {
   "cell_type": "code",
   "execution_count": 61,
   "id": "58f368ab-ea5d-41ec-a8a4-620277b1dd55",
   "metadata": {},
   "outputs": [
    {
     "data": {
      "text/plain": [
       "'eat'"
      ]
     },
     "execution_count": 61,
     "metadata": {},
     "output_type": "execute_result"
    }
   ],
   "source": [
    "from nltk.stem import  RegexpStemmer\n",
    "reg_stemmer = RegexpStemmer('ing')\n",
    "reg_stemmer.stem('ingeat')"
   ]
  },
  {
   "cell_type": "markdown",
   "id": "1299a3c9-5c70-4a10-a3d4-b6d68432a784",
   "metadata": {},
   "source": [
    "#### Stemming a sentence in two ways"
   ]
  },
  {
   "cell_type": "code",
   "execution_count": 62,
   "id": "62895934-8d35-4581-a66c-781000cde6d4",
   "metadata": {},
   "outputs": [
    {
     "name": "stdout",
     "output_type": "stream",
     "text": [
      "pythoners are very intelligent and work very pythonly and now they are pythoning their way to success.\n",
      "\n",
      "python are veri intellig and work veri pythonli and now they are python their way to success . \n"
     ]
    }
   ],
   "source": [
    "from nltk.tokenize import word_tokenize, sent_tokenize, RegexpTokenizer\n",
    "sentence=\"Pythoners are very intelligent and work very pythonly and now they are pythoning their way to success.\"\n",
    " \n",
    "print(porter_stemmer.stem(sentence))\n",
    "print()\n",
    "def stemSentence(sentence):\n",
    "    token_words = word_tokenize(sentence)\n",
    "    token_words\n",
    "    stem_sentence = []\n",
    "    for word in token_words:\n",
    "            stem_sentence.append(porter_stemmer.stem(word))\n",
    "            stem_sentence.append(\" \")\n",
    "    return \"\".join(stem_sentence)\n",
    "x = stemSentence(sentence)\n",
    "print(x)"
   ]
  },
  {
   "cell_type": "markdown",
   "id": "7cbb25b2-e1a0-43ff-b28a-9b12c6b6ae04",
   "metadata": {},
   "source": [
    "#### stemming a text file "
   ]
  },
  {
   "cell_type": "code",
   "execution_count": 8,
   "id": "39436bd4-6f00-4cc4-9709-c9c5a13c09e5",
   "metadata": {},
   "outputs": [
    {
     "name": "stdout",
     "output_type": "stream",
     "text": [
      "['Deep learning eliminates some of data pre-processing that is typically involved with machine learning. These algorithms can ingest and process unstructured data, like text and images, and it automates feature extraction, removing some of the dependency on human experts. For example, let’s say that we had a set of photos of different pets, and we wanted to categorize by “cat”, “dog”, “hamster”, et cetera. Deep learning algorithms can determine which features (e.g. ears) are most important to distinguish each animal from another. In machine learning, this hierarchy of features is established manually by a human expert']\n"
     ]
    }
   ],
   "source": [
    "file = open(\"nlp_text.txt\",encoding=\"utf8\")\n",
    "my_lines_list = file.readlines()\n",
    "print(my_lines_list)\n",
    "file.close()"
   ]
  },
  {
   "cell_type": "code",
   "execution_count": 9,
   "id": "f9599271-1103-4ef5-b60a-0caae7942fe2",
   "metadata": {},
   "outputs": [
    {
     "data": {
      "text/plain": [
       "['Deep learning eliminates some of data pre-processing that is typically involved with machine learning. These algorithms can ingest and process unstructured data, like text and images, and it automates feature extraction, removing some of the dependency on human experts. For example, let’s say that we had a set of photos of different pets, and we wanted to categorize by “cat”, “dog”, “hamster”, et cetera. Deep learning algorithms can determine which features (e.g. ears) are most important to distinguish each animal from another. In machine learning, this hierarchy of features is established manually by a human expert']"
      ]
     },
     "execution_count": 9,
     "metadata": {},
     "output_type": "execute_result"
    }
   ],
   "source": [
    "my_lines_list"
   ]
  },
  {
   "cell_type": "code",
   "execution_count": 19,
   "id": "1fbe75be",
   "metadata": {},
   "outputs": [
    {
     "name": "stdout",
     "output_type": "stream",
     "text": [
      "Deep learning eliminates some of data pre-processing that is typically involved with machine learning. These algorithms can ingest and process unstructured data, like text and images, and it automates feature extraction, removing some of the dependency on human experts. For example, let’s say that we had a set of photos of different pets, and we wanted to categorize by “cat”, “dog”, “hamster”, et cetera. Deep learning algorithms can determine which features (e.g. ears) are most important to distinguish each animal from another. In machine learning, this hierarchy of features is established manually by a human expert\n",
      "--------------------------------\n",
      "Stemmed sentence: \n",
      "deep learn elimin some of data pre-process that is typic involv with machin learn . these algorithm can ingest and process unstructur data , like text and imag , and it autom featur extract , remov some of the depend on human expert . for exampl , let ’ s say that we had a set of photo of differ pet , and we want to categor by “ cat ” , “ dog ” , “ hamster ” , et cetera . deep learn algorithm can determin which featur ( e.g . ear ) are most import to distinguish each anim from anoth . in machin learn , thi hierarchi of featur is establish manual by a human expert \n"
     ]
    }
   ],
   "source": [
    "from nltk.tokenize import word_tokenize\n",
    "def stemSentence(sentence):\n",
    "    token_words=word_tokenize(sentence)\n",
    "    token_words\n",
    "    stem_sentence=[]\n",
    "    for word in token_words:\n",
    "        stem_sentence.append(porter_stemmer.stem(word))\n",
    "        stem_sentence.append(\" \")\n",
    "    return \"\".join(stem_sentence)\n",
    "\n",
    "\n",
    "print(my_lines_list[0])\n",
    "\n",
    "print('--------------------------------')\n",
    "print(\"Stemmed sentence: \")\n",
    "x=stemSentence(my_lines_list[0])\n",
    "print(x)"
   ]
  },
  {
   "cell_type": "code",
   "execution_count": 20,
   "id": "12a731b8",
   "metadata": {},
   "outputs": [],
   "source": [
    "stem_file=open(\"data-science-wiki.txt\",mode=\"a+\", encoding=\"utf-8\")\n",
    "for line in my_lines_list:\n",
    "    stem_sentence=stemSentence(line)\n",
    "    stem_file.write(stem_sentence)\n",
    "stem_file.close()"
   ]
  },
  {
   "cell_type": "code",
   "execution_count": null,
   "id": "806e8fef",
   "metadata": {},
   "outputs": [],
   "source": []
  }
 ],
 "metadata": {
  "kernelspec": {
   "display_name": "Python 3 (ipykernel)",
   "language": "python",
   "name": "python3"
  },
  "language_info": {
   "codemirror_mode": {
    "name": "ipython",
    "version": 3
   },
   "file_extension": ".py",
   "mimetype": "text/x-python",
   "name": "python",
   "nbconvert_exporter": "python",
   "pygments_lexer": "ipython3",
   "version": "3.8.8"
  }
 },
 "nbformat": 4,
 "nbformat_minor": 5
}
